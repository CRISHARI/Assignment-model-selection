{
  "nbformat": 4,
  "nbformat_minor": 0,
  "metadata": {
    "colab": {
      "provenance": []
    },
    "kernelspec": {
      "name": "python3",
      "display_name": "Python 3"
    },
    "language_info": {
      "name": "python"
    }
  },
  "cells": [
    {
      "cell_type": "code",
      "execution_count": 17,
      "metadata": {
        "id": "tnJyPEU7aUmh"
      },
      "outputs": [],
      "source": [
        "import pandas as pd\n",
        "import numpy as np\n",
        "import matplotlib.pyplot as plt\n",
        "import seaborn as sns"
      ]
    },
    {
      "cell_type": "code",
      "source": [
        "data=pd.read_csv('titanic_dataset .csv')"
      ],
      "metadata": {
        "id": "wFCE5w0La6JW"
      },
      "execution_count": 18,
      "outputs": []
    },
    {
      "cell_type": "code",
      "source": [
        "data.head()"
      ],
      "metadata": {
        "colab": {
          "base_uri": "https://localhost:8080/",
          "height": 310
        },
        "id": "iDdpKBbMb_v4",
        "outputId": "c348e6d0-468b-420c-e4ef-07d2bae7071d"
      },
      "execution_count": 19,
      "outputs": [
        {
          "output_type": "execute_result",
          "data": {
            "text/plain": [
              "   PassengerId  Survived  Pclass  \\\n",
              "0            1         0       3   \n",
              "1            2         1       1   \n",
              "2            3         1       3   \n",
              "3            4         1       1   \n",
              "4            5         0       3   \n",
              "\n",
              "                                                Name     Sex   Age  SibSp  \\\n",
              "0                            Braund, Mr. Owen Harris    male  22.0      1   \n",
              "1  Cumings, Mrs. John Bradley (Florence Briggs Th...  female  38.0      1   \n",
              "2                             Heikkinen, Miss. Laina  female  26.0      0   \n",
              "3       Futrelle, Mrs. Jacques Heath (Lily May Peel)  female  35.0      1   \n",
              "4                           Allen, Mr. William Henry    male  35.0      0   \n",
              "\n",
              "   Parch            Ticket     Fare Cabin Embarked  \n",
              "0      0         A/5 21171   7.2500   NaN        S  \n",
              "1      0          PC 17599  71.2833   C85        C  \n",
              "2      0  STON/O2. 3101282   7.9250   NaN        S  \n",
              "3      0            113803  53.1000  C123        S  \n",
              "4      0            373450   8.0500   NaN        S  "
            ],
            "text/html": [
              "\n",
              "  <div id=\"df-a8bf7cfa-138b-4dee-8a29-cee3acb8e3a5\" class=\"colab-df-container\">\n",
              "    <div>\n",
              "<style scoped>\n",
              "    .dataframe tbody tr th:only-of-type {\n",
              "        vertical-align: middle;\n",
              "    }\n",
              "\n",
              "    .dataframe tbody tr th {\n",
              "        vertical-align: top;\n",
              "    }\n",
              "\n",
              "    .dataframe thead th {\n",
              "        text-align: right;\n",
              "    }\n",
              "</style>\n",
              "<table border=\"1\" class=\"dataframe\">\n",
              "  <thead>\n",
              "    <tr style=\"text-align: right;\">\n",
              "      <th></th>\n",
              "      <th>PassengerId</th>\n",
              "      <th>Survived</th>\n",
              "      <th>Pclass</th>\n",
              "      <th>Name</th>\n",
              "      <th>Sex</th>\n",
              "      <th>Age</th>\n",
              "      <th>SibSp</th>\n",
              "      <th>Parch</th>\n",
              "      <th>Ticket</th>\n",
              "      <th>Fare</th>\n",
              "      <th>Cabin</th>\n",
              "      <th>Embarked</th>\n",
              "    </tr>\n",
              "  </thead>\n",
              "  <tbody>\n",
              "    <tr>\n",
              "      <th>0</th>\n",
              "      <td>1</td>\n",
              "      <td>0</td>\n",
              "      <td>3</td>\n",
              "      <td>Braund, Mr. Owen Harris</td>\n",
              "      <td>male</td>\n",
              "      <td>22.0</td>\n",
              "      <td>1</td>\n",
              "      <td>0</td>\n",
              "      <td>A/5 21171</td>\n",
              "      <td>7.2500</td>\n",
              "      <td>NaN</td>\n",
              "      <td>S</td>\n",
              "    </tr>\n",
              "    <tr>\n",
              "      <th>1</th>\n",
              "      <td>2</td>\n",
              "      <td>1</td>\n",
              "      <td>1</td>\n",
              "      <td>Cumings, Mrs. John Bradley (Florence Briggs Th...</td>\n",
              "      <td>female</td>\n",
              "      <td>38.0</td>\n",
              "      <td>1</td>\n",
              "      <td>0</td>\n",
              "      <td>PC 17599</td>\n",
              "      <td>71.2833</td>\n",
              "      <td>C85</td>\n",
              "      <td>C</td>\n",
              "    </tr>\n",
              "    <tr>\n",
              "      <th>2</th>\n",
              "      <td>3</td>\n",
              "      <td>1</td>\n",
              "      <td>3</td>\n",
              "      <td>Heikkinen, Miss. Laina</td>\n",
              "      <td>female</td>\n",
              "      <td>26.0</td>\n",
              "      <td>0</td>\n",
              "      <td>0</td>\n",
              "      <td>STON/O2. 3101282</td>\n",
              "      <td>7.9250</td>\n",
              "      <td>NaN</td>\n",
              "      <td>S</td>\n",
              "    </tr>\n",
              "    <tr>\n",
              "      <th>3</th>\n",
              "      <td>4</td>\n",
              "      <td>1</td>\n",
              "      <td>1</td>\n",
              "      <td>Futrelle, Mrs. Jacques Heath (Lily May Peel)</td>\n",
              "      <td>female</td>\n",
              "      <td>35.0</td>\n",
              "      <td>1</td>\n",
              "      <td>0</td>\n",
              "      <td>113803</td>\n",
              "      <td>53.1000</td>\n",
              "      <td>C123</td>\n",
              "      <td>S</td>\n",
              "    </tr>\n",
              "    <tr>\n",
              "      <th>4</th>\n",
              "      <td>5</td>\n",
              "      <td>0</td>\n",
              "      <td>3</td>\n",
              "      <td>Allen, Mr. William Henry</td>\n",
              "      <td>male</td>\n",
              "      <td>35.0</td>\n",
              "      <td>0</td>\n",
              "      <td>0</td>\n",
              "      <td>373450</td>\n",
              "      <td>8.0500</td>\n",
              "      <td>NaN</td>\n",
              "      <td>S</td>\n",
              "    </tr>\n",
              "  </tbody>\n",
              "</table>\n",
              "</div>\n",
              "    <div class=\"colab-df-buttons\">\n",
              "\n",
              "  <div class=\"colab-df-container\">\n",
              "    <button class=\"colab-df-convert\" onclick=\"convertToInteractive('df-a8bf7cfa-138b-4dee-8a29-cee3acb8e3a5')\"\n",
              "            title=\"Convert this dataframe to an interactive table.\"\n",
              "            style=\"display:none;\">\n",
              "\n",
              "  <svg xmlns=\"http://www.w3.org/2000/svg\" height=\"24px\" viewBox=\"0 -960 960 960\">\n",
              "    <path d=\"M120-120v-720h720v720H120Zm60-500h600v-160H180v160Zm220 220h160v-160H400v160Zm0 220h160v-160H400v160ZM180-400h160v-160H180v160Zm440 0h160v-160H620v160ZM180-180h160v-160H180v160Zm440 0h160v-160H620v160Z\"/>\n",
              "  </svg>\n",
              "    </button>\n",
              "\n",
              "  <style>\n",
              "    .colab-df-container {\n",
              "      display:flex;\n",
              "      gap: 12px;\n",
              "    }\n",
              "\n",
              "    .colab-df-convert {\n",
              "      background-color: #E8F0FE;\n",
              "      border: none;\n",
              "      border-radius: 50%;\n",
              "      cursor: pointer;\n",
              "      display: none;\n",
              "      fill: #1967D2;\n",
              "      height: 32px;\n",
              "      padding: 0 0 0 0;\n",
              "      width: 32px;\n",
              "    }\n",
              "\n",
              "    .colab-df-convert:hover {\n",
              "      background-color: #E2EBFA;\n",
              "      box-shadow: 0px 1px 2px rgba(60, 64, 67, 0.3), 0px 1px 3px 1px rgba(60, 64, 67, 0.15);\n",
              "      fill: #174EA6;\n",
              "    }\n",
              "\n",
              "    .colab-df-buttons div {\n",
              "      margin-bottom: 4px;\n",
              "    }\n",
              "\n",
              "    [theme=dark] .colab-df-convert {\n",
              "      background-color: #3B4455;\n",
              "      fill: #D2E3FC;\n",
              "    }\n",
              "\n",
              "    [theme=dark] .colab-df-convert:hover {\n",
              "      background-color: #434B5C;\n",
              "      box-shadow: 0px 1px 3px 1px rgba(0, 0, 0, 0.15);\n",
              "      filter: drop-shadow(0px 1px 2px rgba(0, 0, 0, 0.3));\n",
              "      fill: #FFFFFF;\n",
              "    }\n",
              "  </style>\n",
              "\n",
              "    <script>\n",
              "      const buttonEl =\n",
              "        document.querySelector('#df-a8bf7cfa-138b-4dee-8a29-cee3acb8e3a5 button.colab-df-convert');\n",
              "      buttonEl.style.display =\n",
              "        google.colab.kernel.accessAllowed ? 'block' : 'none';\n",
              "\n",
              "      async function convertToInteractive(key) {\n",
              "        const element = document.querySelector('#df-a8bf7cfa-138b-4dee-8a29-cee3acb8e3a5');\n",
              "        const dataTable =\n",
              "          await google.colab.kernel.invokeFunction('convertToInteractive',\n",
              "                                                    [key], {});\n",
              "        if (!dataTable) return;\n",
              "\n",
              "        const docLinkHtml = 'Like what you see? Visit the ' +\n",
              "          '<a target=\"_blank\" href=https://colab.research.google.com/notebooks/data_table.ipynb>data table notebook</a>'\n",
              "          + ' to learn more about interactive tables.';\n",
              "        element.innerHTML = '';\n",
              "        dataTable['output_type'] = 'display_data';\n",
              "        await google.colab.output.renderOutput(dataTable, element);\n",
              "        const docLink = document.createElement('div');\n",
              "        docLink.innerHTML = docLinkHtml;\n",
              "        element.appendChild(docLink);\n",
              "      }\n",
              "    </script>\n",
              "  </div>\n",
              "\n",
              "\n",
              "<div id=\"df-b441d2f9-cf90-48e4-945d-6e7d1cbef288\">\n",
              "  <button class=\"colab-df-quickchart\" onclick=\"quickchart('df-b441d2f9-cf90-48e4-945d-6e7d1cbef288')\"\n",
              "            title=\"Suggest charts\"\n",
              "            style=\"display:none;\">\n",
              "\n",
              "<svg xmlns=\"http://www.w3.org/2000/svg\" height=\"24px\"viewBox=\"0 0 24 24\"\n",
              "     width=\"24px\">\n",
              "    <g>\n",
              "        <path d=\"M19 3H5c-1.1 0-2 .9-2 2v14c0 1.1.9 2 2 2h14c1.1 0 2-.9 2-2V5c0-1.1-.9-2-2-2zM9 17H7v-7h2v7zm4 0h-2V7h2v10zm4 0h-2v-4h2v4z\"/>\n",
              "    </g>\n",
              "</svg>\n",
              "  </button>\n",
              "\n",
              "<style>\n",
              "  .colab-df-quickchart {\n",
              "      --bg-color: #E8F0FE;\n",
              "      --fill-color: #1967D2;\n",
              "      --hover-bg-color: #E2EBFA;\n",
              "      --hover-fill-color: #174EA6;\n",
              "      --disabled-fill-color: #AAA;\n",
              "      --disabled-bg-color: #DDD;\n",
              "  }\n",
              "\n",
              "  [theme=dark] .colab-df-quickchart {\n",
              "      --bg-color: #3B4455;\n",
              "      --fill-color: #D2E3FC;\n",
              "      --hover-bg-color: #434B5C;\n",
              "      --hover-fill-color: #FFFFFF;\n",
              "      --disabled-bg-color: #3B4455;\n",
              "      --disabled-fill-color: #666;\n",
              "  }\n",
              "\n",
              "  .colab-df-quickchart {\n",
              "    background-color: var(--bg-color);\n",
              "    border: none;\n",
              "    border-radius: 50%;\n",
              "    cursor: pointer;\n",
              "    display: none;\n",
              "    fill: var(--fill-color);\n",
              "    height: 32px;\n",
              "    padding: 0;\n",
              "    width: 32px;\n",
              "  }\n",
              "\n",
              "  .colab-df-quickchart:hover {\n",
              "    background-color: var(--hover-bg-color);\n",
              "    box-shadow: 0 1px 2px rgba(60, 64, 67, 0.3), 0 1px 3px 1px rgba(60, 64, 67, 0.15);\n",
              "    fill: var(--button-hover-fill-color);\n",
              "  }\n",
              "\n",
              "  .colab-df-quickchart-complete:disabled,\n",
              "  .colab-df-quickchart-complete:disabled:hover {\n",
              "    background-color: var(--disabled-bg-color);\n",
              "    fill: var(--disabled-fill-color);\n",
              "    box-shadow: none;\n",
              "  }\n",
              "\n",
              "  .colab-df-spinner {\n",
              "    border: 2px solid var(--fill-color);\n",
              "    border-color: transparent;\n",
              "    border-bottom-color: var(--fill-color);\n",
              "    animation:\n",
              "      spin 1s steps(1) infinite;\n",
              "  }\n",
              "\n",
              "  @keyframes spin {\n",
              "    0% {\n",
              "      border-color: transparent;\n",
              "      border-bottom-color: var(--fill-color);\n",
              "      border-left-color: var(--fill-color);\n",
              "    }\n",
              "    20% {\n",
              "      border-color: transparent;\n",
              "      border-left-color: var(--fill-color);\n",
              "      border-top-color: var(--fill-color);\n",
              "    }\n",
              "    30% {\n",
              "      border-color: transparent;\n",
              "      border-left-color: var(--fill-color);\n",
              "      border-top-color: var(--fill-color);\n",
              "      border-right-color: var(--fill-color);\n",
              "    }\n",
              "    40% {\n",
              "      border-color: transparent;\n",
              "      border-right-color: var(--fill-color);\n",
              "      border-top-color: var(--fill-color);\n",
              "    }\n",
              "    60% {\n",
              "      border-color: transparent;\n",
              "      border-right-color: var(--fill-color);\n",
              "    }\n",
              "    80% {\n",
              "      border-color: transparent;\n",
              "      border-right-color: var(--fill-color);\n",
              "      border-bottom-color: var(--fill-color);\n",
              "    }\n",
              "    90% {\n",
              "      border-color: transparent;\n",
              "      border-bottom-color: var(--fill-color);\n",
              "    }\n",
              "  }\n",
              "</style>\n",
              "\n",
              "  <script>\n",
              "    async function quickchart(key) {\n",
              "      const quickchartButtonEl =\n",
              "        document.querySelector('#' + key + ' button');\n",
              "      quickchartButtonEl.disabled = true;  // To prevent multiple clicks.\n",
              "      quickchartButtonEl.classList.add('colab-df-spinner');\n",
              "      try {\n",
              "        const charts = await google.colab.kernel.invokeFunction(\n",
              "            'suggestCharts', [key], {});\n",
              "      } catch (error) {\n",
              "        console.error('Error during call to suggestCharts:', error);\n",
              "      }\n",
              "      quickchartButtonEl.classList.remove('colab-df-spinner');\n",
              "      quickchartButtonEl.classList.add('colab-df-quickchart-complete');\n",
              "    }\n",
              "    (() => {\n",
              "      let quickchartButtonEl =\n",
              "        document.querySelector('#df-b441d2f9-cf90-48e4-945d-6e7d1cbef288 button');\n",
              "      quickchartButtonEl.style.display =\n",
              "        google.colab.kernel.accessAllowed ? 'block' : 'none';\n",
              "    })();\n",
              "  </script>\n",
              "</div>\n",
              "    </div>\n",
              "  </div>\n"
            ]
          },
          "metadata": {},
          "execution_count": 19
        }
      ]
    },
    {
      "cell_type": "code",
      "source": [
        "data.info()"
      ],
      "metadata": {
        "colab": {
          "base_uri": "https://localhost:8080/"
        },
        "id": "UbkuI0huA3Rt",
        "outputId": "61679b6f-f0ce-4b5c-b904-b90fe2c9138c"
      },
      "execution_count": 20,
      "outputs": [
        {
          "output_type": "stream",
          "name": "stdout",
          "text": [
            "<class 'pandas.core.frame.DataFrame'>\n",
            "RangeIndex: 891 entries, 0 to 890\n",
            "Data columns (total 12 columns):\n",
            " #   Column       Non-Null Count  Dtype  \n",
            "---  ------       --------------  -----  \n",
            " 0   PassengerId  891 non-null    int64  \n",
            " 1   Survived     891 non-null    int64  \n",
            " 2   Pclass       891 non-null    int64  \n",
            " 3   Name         891 non-null    object \n",
            " 4   Sex          891 non-null    object \n",
            " 5   Age          714 non-null    float64\n",
            " 6   SibSp        891 non-null    int64  \n",
            " 7   Parch        891 non-null    int64  \n",
            " 8   Ticket       891 non-null    object \n",
            " 9   Fare         891 non-null    float64\n",
            " 10  Cabin        204 non-null    object \n",
            " 11  Embarked     889 non-null    object \n",
            "dtypes: float64(2), int64(5), object(5)\n",
            "memory usage: 83.7+ KB\n"
          ]
        }
      ]
    },
    {
      "cell_type": "code",
      "source": [
        "data.isna().sum()"
      ],
      "metadata": {
        "colab": {
          "base_uri": "https://localhost:8080/"
        },
        "id": "NB5UB73tccgA",
        "outputId": "1ac2d55c-2580-47af-eae7-8b9b61f19d3e"
      },
      "execution_count": 21,
      "outputs": [
        {
          "output_type": "execute_result",
          "data": {
            "text/plain": [
              "PassengerId      0\n",
              "Survived         0\n",
              "Pclass           0\n",
              "Name             0\n",
              "Sex              0\n",
              "Age            177\n",
              "SibSp            0\n",
              "Parch            0\n",
              "Ticket           0\n",
              "Fare             0\n",
              "Cabin          687\n",
              "Embarked         2\n",
              "dtype: int64"
            ]
          },
          "metadata": {},
          "execution_count": 21
        }
      ]
    },
    {
      "cell_type": "code",
      "source": [
        "data.columns"
      ],
      "metadata": {
        "colab": {
          "base_uri": "https://localhost:8080/"
        },
        "id": "MqSDClfAgzIg",
        "outputId": "b9745bb3-a561-4e4e-d60d-b92883c13cc8"
      },
      "execution_count": 22,
      "outputs": [
        {
          "output_type": "execute_result",
          "data": {
            "text/plain": [
              "Index(['PassengerId', 'Survived', 'Pclass', 'Name', 'Sex', 'Age', 'SibSp',\n",
              "       'Parch', 'Ticket', 'Fare', 'Cabin', 'Embarked'],\n",
              "      dtype='object')"
            ]
          },
          "metadata": {},
          "execution_count": 22
        }
      ]
    },
    {
      "cell_type": "code",
      "source": [
        "data['Age']=data['Age'].fillna(data['Age'].median())\n",
        "data['Cabin']=data['Cabin'].fillna(data['Cabin'].ffill())\n",
        "data['Cabin']=data['Cabin'].fillna(data['Cabin'].bfill())\n",
        "data['Embarked']=data['Embarked'].fillna(data['Embarked'].ffill())"
      ],
      "metadata": {
        "id": "uIjdajy5u3WP"
      },
      "execution_count": 23,
      "outputs": []
    },
    {
      "cell_type": "code",
      "source": [
        "data.isna().sum()"
      ],
      "metadata": {
        "colab": {
          "base_uri": "https://localhost:8080/"
        },
        "id": "rCqqi3vzSlEi",
        "outputId": "f10845ad-335d-4393-e97a-1adeb8fd0be6"
      },
      "execution_count": 24,
      "outputs": [
        {
          "output_type": "execute_result",
          "data": {
            "text/plain": [
              "PassengerId    0\n",
              "Survived       0\n",
              "Pclass         0\n",
              "Name           0\n",
              "Sex            0\n",
              "Age            0\n",
              "SibSp          0\n",
              "Parch          0\n",
              "Ticket         0\n",
              "Fare           0\n",
              "Cabin          0\n",
              "Embarked       0\n",
              "dtype: int64"
            ]
          },
          "metadata": {},
          "execution_count": 24
        }
      ]
    },
    {
      "cell_type": "code",
      "source": [
        "x=data.drop(['Survived','Name','Sex','Embarked','Cabin','Ticket'],axis=1)\n",
        "y=data['Survived']"
      ],
      "metadata": {
        "id": "v6CZpMPilbtX"
      },
      "execution_count": 25,
      "outputs": []
    },
    {
      "cell_type": "code",
      "source": [
        "from sklearn.model_selection import train_test_split\n",
        "x_train,x_test,y_train,y_test=train_test_split(x,y,test_size=0.2,random_state=42)"
      ],
      "metadata": {
        "id": "9_OpvX4bmHxk"
      },
      "execution_count": 26,
      "outputs": []
    },
    {
      "cell_type": "markdown",
      "source": [
        "##svm"
      ],
      "metadata": {
        "id": "U_U1DP79mTI_"
      }
    },
    {
      "cell_type": "code",
      "source": [
        "from sklearn.svm import SVC"
      ],
      "metadata": {
        "id": "dUwWUy97mUw-"
      },
      "execution_count": 27,
      "outputs": []
    },
    {
      "cell_type": "code",
      "source": [
        "svm_cls= SVC(kernel='linear')\n",
        "svm_cls=svm_cls.fit(x_train,y_train)\n",
        "y_pred_svm=svm_cls.predict (x_test)"
      ],
      "metadata": {
        "id": "WNJ1TjtqmYvm"
      },
      "execution_count": 28,
      "outputs": []
    },
    {
      "cell_type": "code",
      "source": [
        "from sklearn.metrics import confusion_matrix,accuracy_score"
      ],
      "metadata": {
        "id": "qXeyLXYNEDNQ"
      },
      "execution_count": 29,
      "outputs": []
    },
    {
      "cell_type": "code",
      "source": [
        "confusion_matrix(y_test,y_pred_svm)"
      ],
      "metadata": {
        "colab": {
          "base_uri": "https://localhost:8080/"
        },
        "id": "lA867rGqEEYK",
        "outputId": "ad488680-3880-49b0-b89a-d29afea43eca"
      },
      "execution_count": 30,
      "outputs": [
        {
          "output_type": "execute_result",
          "data": {
            "text/plain": [
              "array([[93, 12],\n",
              "       [33, 41]])"
            ]
          },
          "metadata": {},
          "execution_count": 30
        }
      ]
    },
    {
      "cell_type": "code",
      "source": [
        "accuracy_score(y_test,y_pred_svm)"
      ],
      "metadata": {
        "colab": {
          "base_uri": "https://localhost:8080/"
        },
        "id": "ugeUuwUmEHyE",
        "outputId": "69079169-8e4d-43eb-f3f8-ac86ffe7e82e"
      },
      "execution_count": 31,
      "outputs": [
        {
          "output_type": "execute_result",
          "data": {
            "text/plain": [
              "0.7486033519553073"
            ]
          },
          "metadata": {},
          "execution_count": 31
        }
      ]
    },
    {
      "cell_type": "code",
      "source": [
        "svm_cls1=SVC(kernel='rbf')\n",
        "svm_cls1=svm_cls1.fit(x_train,y_train)\n",
        "y_pred_svm1=svm_cls1.predict (x_test)"
      ],
      "metadata": {
        "id": "ul_8-hKWELX_"
      },
      "execution_count": 32,
      "outputs": []
    },
    {
      "cell_type": "code",
      "source": [
        "confusion_matrix(y_test,y_pred_svm1)"
      ],
      "metadata": {
        "colab": {
          "base_uri": "https://localhost:8080/"
        },
        "id": "yTotcjyqEagM",
        "outputId": "ade13620-c464-4d4e-f97e-d05322bdeeed"
      },
      "execution_count": 33,
      "outputs": [
        {
          "output_type": "execute_result",
          "data": {
            "text/plain": [
              "array([[103,   2],\n",
              "       [ 70,   4]])"
            ]
          },
          "metadata": {},
          "execution_count": 33
        }
      ]
    },
    {
      "cell_type": "code",
      "source": [
        "accuracy_score(y_test,y_pred_svm1)"
      ],
      "metadata": {
        "colab": {
          "base_uri": "https://localhost:8080/"
        },
        "id": "vEG7ctMuEbmZ",
        "outputId": "fd5a589c-14b6-4499-ca4d-8ba5c5609b90"
      },
      "execution_count": 34,
      "outputs": [
        {
          "output_type": "execute_result",
          "data": {
            "text/plain": [
              "0.5977653631284916"
            ]
          },
          "metadata": {},
          "execution_count": 34
        }
      ]
    },
    {
      "cell_type": "markdown",
      "source": [
        "##knn"
      ],
      "metadata": {
        "id": "UAzRORVkGuqV"
      }
    },
    {
      "cell_type": "code",
      "source": [
        "from sklearn.neighbors import KNeighborsClassifier"
      ],
      "metadata": {
        "id": "nmnYrpoFGwdw"
      },
      "execution_count": 35,
      "outputs": []
    },
    {
      "cell_type": "code",
      "source": [
        "from sklearn.metrics import confusion_matrix,accuracy_score,precision_score,recall_score,f1_score"
      ],
      "metadata": {
        "id": "ItHyHXc8TxLY"
      },
      "execution_count": 36,
      "outputs": []
    },
    {
      "cell_type": "code",
      "source": [
        "metric_k=[]\n",
        "neighbors=np.arange(5,15)"
      ],
      "metadata": {
        "id": "RXXwY5HTNEeQ"
      },
      "execution_count": 37,
      "outputs": []
    },
    {
      "cell_type": "code",
      "source": [
        "for k in neighbors:\n",
        "    classifier=KNeighborsClassifier(n_neighbors=k, metric='euclidean')\n",
        "    classifier.fit(x_train,y_train)\n",
        "    y_pred=classifier.predict(x_test)\n",
        "    acc=accuracy_score(y_test,y_pred)\n",
        "    metric_k.append(acc)"
      ],
      "metadata": {
        "id": "g1KFbKfyNe9i"
      },
      "execution_count": 38,
      "outputs": []
    },
    {
      "cell_type": "code",
      "source": [
        "metric_k"
      ],
      "metadata": {
        "colab": {
          "base_uri": "https://localhost:8080/"
        },
        "id": "evsV0ffKOxAB",
        "outputId": "2c1515a5-8ee0-4581-b768-75be7a87da4c"
      },
      "execution_count": 39,
      "outputs": [
        {
          "output_type": "execute_result",
          "data": {
            "text/plain": [
              "[0.659217877094972,\n",
              " 0.6536312849162011,\n",
              " 0.659217877094972,\n",
              " 0.6480446927374302,\n",
              " 0.6480446927374302,\n",
              " 0.6424581005586593,\n",
              " 0.6368715083798883,\n",
              " 0.6368715083798883,\n",
              " 0.6480446927374302,\n",
              " 0.6480446927374302]"
            ]
          },
          "metadata": {},
          "execution_count": 39
        }
      ]
    },
    {
      "cell_type": "code",
      "source": [
        "plt.plot (neighbors,metric_k,'o-')\n",
        "plt.xlabel('K')\n",
        "plt.ylabel('Accuracy')\n",
        "plt.grid()"
      ],
      "metadata": {
        "colab": {
          "base_uri": "https://localhost:8080/",
          "height": 450
        },
        "id": "SyIiaCuYO6nu",
        "outputId": "6953ff31-bfd7-4def-cd00-4987da7c283d"
      },
      "execution_count": 40,
      "outputs": [
        {
          "output_type": "display_data",
          "data": {
            "text/plain": [
              "<Figure size 640x480 with 1 Axes>"
            ],
            "image/png": "[encoded data removed]"
          },
          "metadata": {}
        }
      ]
    },
    {
      "cell_type": "code",
      "source": [
        "classifier=KNeighborsClassifier(n_neighbors=5, metric='euclidean')\n",
        "classifier.fit(x_train,y_train)\n",
        "y_pred=classifier.predict(x_test)\n",
        "acc=accuracy_score(y_test,y_pred)\n",
        "metric_k.append(acc)"
      ],
      "metadata": {
        "id": "wspVZ45hRNL_"
      },
      "execution_count": 41,
      "outputs": []
    },
    {
      "cell_type": "code",
      "source": [
        "print('Accuracy= ',accuracy_score(y_test,y_pred))\n",
        "print('Precision= ',precision_score(y_test,y_pred))\n",
        "print('Recall= ',recall_score(y_test,y_pred))\n",
        "print('F1 score= ',f1_score(y_test,y_pred))"
      ],
      "metadata": {
        "colab": {
          "base_uri": "https://localhost:8080/"
        },
        "id": "XiMZ6ZlYR1j8",
        "outputId": "2ef3b166-d098-4d32-e56b-8de552151e4d"
      },
      "execution_count": 42,
      "outputs": [
        {
          "output_type": "stream",
          "name": "stdout",
          "text": [
            "Accuracy=  0.659217877094972\n",
            "Precision=  0.6382978723404256\n",
            "Recall=  0.40540540540540543\n",
            "F1 score=  0.4958677685950413\n"
          ]
        }
      ]
    },
    {
      "cell_type": "code",
      "source": [
        "confusion_matrix(y_test,y_pred)"
      ],
      "metadata": {
        "colab": {
          "base_uri": "https://localhost:8080/"
        },
        "id": "ZAtzqkejUcMw",
        "outputId": "87e1f114-113d-4b78-c72e-3aba5d9a2ed2"
      },
      "execution_count": 43,
      "outputs": [
        {
          "output_type": "execute_result",
          "data": {
            "text/plain": [
              "array([[88, 17],\n",
              "       [44, 30]])"
            ]
          },
          "metadata": {},
          "execution_count": 43
        }
      ]
    },
    {
      "cell_type": "markdown",
      "source": [
        "##K-fold Cross Validation"
      ],
      "metadata": {
        "id": "s6iGwjqcTFgg"
      }
    },
    {
      "cell_type": "code",
      "source": [
        "from sklearn.model_selection import train_test_split"
      ],
      "metadata": {
        "id": "nWghd1lDewU4"
      },
      "execution_count": 159,
      "outputs": []
    },
    {
      "cell_type": "code",
      "source": [
        "x_train,x_test,y_train,y_test=train_test_split(x,y,test_size=0.2,random_state=42)"
      ],
      "metadata": {
        "id": "S-0d6Sire8aY"
      },
      "execution_count": 160,
      "outputs": []
    },
    {
      "cell_type": "code",
      "source": [
        "from sklearn.linear_model import LogisticRegression"
      ],
      "metadata": {
        "id": "2BL7G2F4fIGT"
      },
      "execution_count": 161,
      "outputs": []
    },
    {
      "cell_type": "code",
      "source": [
        "lrmodel=LogisticRegression(max_iter=3000)\n",
        "lrmodel.fit(x_train,y_train)"
      ],
      "metadata": {
        "colab": {
          "base_uri": "https://localhost:8080/",
          "height": 75
        },
        "id": "LnH4j6QsfcVE",
        "outputId": "1b15c419-4d52-4592-f6f1-89688855eb3e"
      },
      "execution_count": 162,
      "outputs": [
        {
          "output_type": "execute_result",
          "data": {
            "text/plain": [
              "LogisticRegression(max_iter=3000)"
            ],
            "text/html": [
              "<style>#sk-container-id-7 {color: black;background-color: white;}#sk-container-id-7 pre{padding: 0;}#sk-container-id-7 div.sk-toggleable {background-color: white;}#sk-container-id-7 label.sk-toggleable__label {cursor: pointer;display: block;width: 100%;margin-bottom: 0;padding: 0.3em;box-sizing: border-box;text-align: center;}#sk-container-id-7 label.sk-toggleable__label-arrow:before {content: \"▸\";float: left;margin-right: 0.25em;color: #696969;}#sk-container-id-7 label.sk-toggleable__label-arrow:hover:before {color: black;}#sk-container-id-7 div.sk-estimator:hover label.sk-toggleable__label-arrow:before {color: black;}#sk-container-id-7 div.sk-toggleable__content {max-height: 0;max-width: 0;overflow: hidden;text-align: left;background-color: #f0f8ff;}#sk-container-id-7 div.sk-toggleable__content pre {margin: 0.2em;color: black;border-radius: 0.25em;background-color: #f0f8ff;}#sk-container-id-7 input.sk-toggleable__control:checked~div.sk-toggleable__content {max-height: 200px;max-width: 100%;overflow: auto;}#sk-container-id-7 input.sk-toggleable__control:checked~label.sk-toggleable__label-arrow:before {content: \"▾\";}#sk-container-id-7 div.sk-estimator input.sk-toggleable__control:checked~label.sk-toggleable__label {background-color: #d4ebff;}#sk-container-id-7 div.sk-label input.sk-toggleable__control:checked~label.sk-toggleable__label {background-color: #d4ebff;}#sk-container-id-7 input.sk-hidden--visually {border: 0;clip: rect(1px 1px 1px 1px);clip: rect(1px, 1px, 1px, 1px);height: 1px;margin: -1px;overflow: hidden;padding: 0;position: absolute;width: 1px;}#sk-container-id-7 div.sk-estimator {font-family: monospace;background-color: #f0f8ff;border: 1px dotted black;border-radius: 0.25em;box-sizing: border-box;margin-bottom: 0.5em;}#sk-container-id-7 div.sk-estimator:hover {background-color: #d4ebff;}#sk-container-id-7 div.sk-parallel-item::after {content: \"\";width: 100%;border-bottom: 1px solid gray;flex-grow: 1;}#sk-container-id-7 div.sk-label:hover label.sk-toggleable__label {background-color: #d4ebff;}#sk-container-id-7 div.sk-serial::before {content: \"\";position: absolute;border-left: 1px solid gray;box-sizing: border-box;top: 0;bottom: 0;left: 50%;z-index: 0;}#sk-container-id-7 div.sk-serial {display: flex;flex-direction: column;align-items: center;background-color: white;padding-right: 0.2em;padding-left: 0.2em;position: relative;}#sk-container-id-7 div.sk-item {position: relative;z-index: 1;}#sk-container-id-7 div.sk-parallel {display: flex;align-items: stretch;justify-content: center;background-color: white;position: relative;}#sk-container-id-7 div.sk-item::before, #sk-container-id-7 div.sk-parallel-item::before {content: \"\";position: absolute;border-left: 1px solid gray;box-sizing: border-box;top: 0;bottom: 0;left: 50%;z-index: -1;}#sk-container-id-7 div.sk-parallel-item {display: flex;flex-direction: column;z-index: 1;position: relative;background-color: white;}#sk-container-id-7 div.sk-parallel-item:first-child::after {align-self: flex-end;width: 50%;}#sk-container-id-7 div.sk-parallel-item:last-child::after {align-self: flex-start;width: 50%;}#sk-container-id-7 div.sk-parallel-item:only-child::after {width: 0;}#sk-container-id-7 div.sk-dashed-wrapped {border: 1px dashed gray;margin: 0 0.4em 0.5em 0.4em;box-sizing: border-box;padding-bottom: 0.4em;background-color: white;}#sk-container-id-7 div.sk-label label {font-family: monospace;font-weight: bold;display: inline-block;line-height: 1.2em;}#sk-container-id-7 div.sk-label-container {text-align: center;}#sk-container-id-7 div.sk-container {/* jupyter's `normalize.less` sets `[hidden] { display: none; }` but bootstrap.min.css set `[hidden] { display: none !important; }` so we also need the `!important` here to be able to override the default hidden behavior on the sphinx rendered scikit-learn.org. See: https://github.com/scikit-learn/scikit-learn/issues/21755 */display: inline-block !important;position: relative;}#sk-container-id-7 div.sk-text-repr-fallback {display: none;}</style><div id=\"sk-container-id-7\" class=\"sk-top-container\"><div class=\"sk-text-repr-fallback\"><pre>LogisticRegression(max_iter=3000)</pre><b>In a Jupyter environment, please rerun this cell to show the HTML representation or trust the notebook. <br />On GitHub, the HTML representation is unable to render, please try loading this page with nbviewer.org.</b></div><div class=\"sk-container\" hidden><div class=\"sk-item\"><div class=\"sk-estimator sk-toggleable\"><input class=\"sk-toggleable__control sk-hidden--visually\" id=\"sk-estimator-id-7\" type=\"checkbox\" checked><label for=\"sk-estimator-id-7\" class=\"sk-toggleable__label sk-toggleable__label-arrow\">LogisticRegression</label><div class=\"sk-toggleable__content\"><pre>LogisticRegression(max_iter=3000)</pre></div></div></div></div></div>"
            ]
          },
          "metadata": {},
          "execution_count": 162
        }
      ]
    },
    {
      "cell_type": "code",
      "source": [
        "score_lr=lrmodel.score(x_test,y_test)"
      ],
      "metadata": {
        "id": "j-m3n68vfwrQ"
      },
      "execution_count": 163,
      "outputs": []
    },
    {
      "cell_type": "code",
      "source": [
        "score_lr"
      ],
      "metadata": {
        "colab": {
          "base_uri": "https://localhost:8080/"
        },
        "id": "kUJzvlF5f9di",
        "outputId": "b21d3d62-12ca-4de4-8e55-212756773988"
      },
      "execution_count": 164,
      "outputs": [
        {
          "output_type": "execute_result",
          "data": {
            "text/plain": [
              "0.7318435754189944"
            ]
          },
          "metadata": {},
          "execution_count": 164
        }
      ]
    },
    {
      "cell_type": "code",
      "source": [
        "from sklearn.model_selection import KFold"
      ],
      "metadata": {
        "id": "bTZn-xvxU44j"
      },
      "execution_count": 165,
      "outputs": []
    },
    {
      "cell_type": "code",
      "source": [
        "k = KFold(10)\n",
        "k"
      ],
      "metadata": {
        "colab": {
          "base_uri": "https://localhost:8080/"
        },
        "id": "YyJYZ6KeTocS",
        "outputId": "baffd8d4-3e1d-435a-dff8-34e3fc3c7ee6"
      },
      "execution_count": 188,
      "outputs": [
        {
          "output_type": "execute_result",
          "data": {
            "text/plain": [
              "KFold(n_splits=10, random_state=None, shuffle=False)"
            ]
          },
          "metadata": {},
          "execution_count": 188
        }
      ]
    },
    {
      "cell_type": "code",
      "source": [
        "for train_index,test_index in k.split(x,y):\n",
        "  print('Training Index',train_index)\n",
        "  print('Test Index',test_index)"
      ],
      "metadata": {
        "colab": {
          "base_uri": "https://localhost:8080/"
        },
        "id": "9Be07UCRUj-G",
        "outputId": "9478c20f-376a-4b5c-d342-8694357c3dbb"
      },
      "execution_count": 189,
      "outputs": [
        {
          "output_type": "stream",
          "name": "stdout",
          "text": [
            "Training Index [ 90  91  92  93  94  95  96  97  98  99 100 101 102 103 104 105 106 107\n",
            " 108 109 110 111 112 113 114 115 116 117 118 119 120 121 122 123 124 125\n",
            " 126 127 128 129 130 131 132 133 134 135 136 137 138 139 140 141 142 143\n",
            " 144 145 146 147 148 149 150 151 152 153 154 155 156 157 158 159 160 161\n",
            " 162 163 164 165 166 167 168 169 170 171 172 173 174 175 176 177 178 179\n",
            " 180 181 182 183 184 185 186 187 188 189 190 191 192 193 194 195 196 197\n",
            " 198 199 200 201 202 203 204 205 206 207 208 209 210 211 212 213 214 215\n",
            " 216 217 218 219 220 221 222 223 224 225 226 227 228 229 230 231 232 233\n",
            " 234 235 236 237 238 239 240 241 242 243 244 245 246 247 248 249 250 251\n",
            " 252 253 254 255 256 257 258 259 260 261 262 263 264 265 266 267 268 269\n",
            " 270 271 272 273 274 275 276 277 278 279 280 281 282 283 284 285 286 287\n",
            " 288 289 290 291 292 293 294 295 296 297 298 299 300 301 302 303 304 305\n",
            " 306 307 308 309 310 311 312 313 314 315 316 317 318 319 320 321 322 323\n",
            " 324 325 326 327 328 329 330 331 332 333 334 335 336 337 338 339 340 341\n",
            " 342 343 344 345 346 347 348 349 350 351 352 353 354 355 356 357 358 359\n",
            " 360 361 362 363 364 365 366 367 368 369 370 371 372 373 374 375 376 377\n",
            " 378 379 380 381 382 383 384 385 386 387 388 389 390 391 392 393 394 395\n",
            " 396 397 398 399 400 401 402 403 404 405 406 407 408 409 410 411 412 413\n",
            " 414 415 416 417 418 419 420 421 422 423 424 425 426 427 428 429 430 431\n",
            " 432 433 434 435 436 437 438 439 440 441 442 443 444 445 446 447 448 449\n",
            " 450 451 452 453 454 455 456 457 458 459 460 461 462 463 464 465 466 467\n",
            " 468 469 470 471 472 473 474 475 476 477 478 479 480 481 482 483 484 485\n",
            " 486 487 488 489 490 491 492 493 494 495 496 497 498 499 500 501 502 503\n",
            " 504 505 506 507 508 509 510 511 512 513 514 515 516 517 518 519 520 521\n",
            " 522 523 524 525 526 527 528 529 530 531 532 533 534 535 536 537 538 539\n",
            " 540 541 542 543 544 545 546 547 548 549 550 551 552 553 554 555 556 557\n",
            " 558 559 560 561 562 563 564 565 566 567 568 569 570 571 572 573 574 575\n",
            " 576 577 578 579 580 581 582 583 584 585 586 587 588 589 590 591 592 593\n",
            " 594 595 596 597 598 599 600 601 602 603 604 605 606 607 608 609 610 611\n",
            " 612 613 614 615 616 617 618 619 620 621 622 623 624 625 626 627 628 629\n",
            " 630 631 632 633 634 635 636 637 638 639 640 641 642 643 644 645 646 647\n",
            " 648 649 650 651 652 653 654 655 656 657 658 659 660 661 662 663 664 665\n",
            " 666 667 668 669 670 671 672 673 674 675 676 677 678 679 680 681 682 683\n",
            " 684 685 686 687 688 689 690 691 692 693 694 695 696 697 698 699 700 701\n",
            " 702 703 704 705 706 707 708 709 710 711 712 713 714 715 716 717 718 719\n",
            " 720 721 722 723 724 725 726 727 728 729 730 731 732 733 734 735 736 737\n",
            " 738 739 740 741 742 743 744 745 746 747 748 749 750 751 752 753 754 755\n",
            " 756 757 758 759 760 761 762 763 764 765 766 767 768 769 770 771 772 773\n",
            " 774 775 776 777 778 779 780 781 782 783 784 785 786 787 788 789 790 791\n",
            " 792 793 794 795 796 797 798 799 800 801 802 803 804 805 806 807 808 809\n",
            " 810 811 812 813 814 815 816 817 818 819 820 821 822 823 824 825 826 827\n",
            " 828 829 830 831 832 833 834 835 836 837 838 839 840 841 842 843 844 845\n",
            " 846 847 848 849 850 851 852 853 854 855 856 857 858 859 860 861 862 863\n",
            " 864 865 866 867 868 869 870 871 872 873 874 875 876 877 878 879 880 881\n",
            " 882 883 884 885 886 887 888 889 890]\n",
            "Test Index [ 0  1  2  3  4  5  6  7  8  9 10 11 12 13 14 15 16 17 18 19 20 21 22 23\n",
            " 24 25 26 27 28 29 30 31 32 33 34 35 36 37 38 39 40 41 42 43 44 45 46 47\n",
            " 48 49 50 51 52 53 54 55 56 57 58 59 60 61 62 63 64 65 66 67 68 69 70 71\n",
            " 72 73 74 75 76 77 78 79 80 81 82 83 84 85 86 87 88 89]\n",
            "Training Index [  0   1   2   3   4   5   6   7   8   9  10  11  12  13  14  15  16  17\n",
            "  18  19  20  21  22  23  24  25  26  27  28  29  30  31  32  33  34  35\n",
            "  36  37  38  39  40  41  42  43  44  45  46  47  48  49  50  51  52  53\n",
            "  54  55  56  57  58  59  60  61  62  63  64  65  66  67  68  69  70  71\n",
            "  72  73  74  75  76  77  78  79  80  81  82  83  84  85  86  87  88  89\n",
            " 179 180 181 182 183 184 185 186 187 188 189 190 191 192 193 194 195 196\n",
            " 197 198 199 200 201 202 203 204 205 206 207 208 209 210 211 212 213 214\n",
            " 215 216 217 218 219 220 221 222 223 224 225 226 227 228 229 230 231 232\n",
            " 233 234 235 236 237 238 239 240 241 242 243 244 245 246 247 248 249 250\n",
            " 251 252 253 254 255 256 257 258 259 260 261 262 263 264 265 266 267 268\n",
            " 269 270 271 272 273 274 275 276 277 278 279 280 281 282 283 284 285 286\n",
            " 287 288 289 290 291 292 293 294 295 296 297 298 299 300 301 302 303 304\n",
            " 305 306 307 308 309 310 311 312 313 314 315 316 317 318 319 320 321 322\n",
            " 323 324 325 326 327 328 329 330 331 332 333 334 335 336 337 338 339 340\n",
            " 341 342 343 344 345 346 347 348 349 350 351 352 353 354 355 356 357 358\n",
            " 359 360 361 362 363 364 365 366 367 368 369 370 371 372 373 374 375 376\n",
            " 377 378 379 380 381 382 383 384 385 386 387 388 389 390 391 392 393 394\n",
            " 395 396 397 398 399 400 401 402 403 404 405 406 407 408 409 410 411 412\n",
            " 413 414 415 416 417 418 419 420 421 422 423 424 425 426 427 428 429 430\n",
            " 431 432 433 434 435 436 437 438 439 440 441 442 443 444 445 446 447 448\n",
            " 449 450 451 452 453 454 455 456 457 458 459 460 461 462 463 464 465 466\n",
            " 467 468 469 470 471 472 473 474 475 476 477 478 479 480 481 482 483 484\n",
            " 485 486 487 488 489 490 491 492 493 494 495 496 497 498 499 500 501 502\n",
            " 503 504 505 506 507 508 509 510 511 512 513 514 515 516 517 518 519 520\n",
            " 521 522 523 524 525 526 527 528 529 530 531 532 533 534 535 536 537 538\n",
            " 539 540 541 542 543 544 545 546 547 548 549 550 551 552 553 554 555 556\n",
            " 557 558 559 560 561 562 563 564 565 566 567 568 569 570 571 572 573 574\n",
            " 575 576 577 578 579 580 581 582 583 584 585 586 587 588 589 590 591 592\n",
            " 593 594 595 596 597 598 599 600 601 602 603 604 605 606 607 608 609 610\n",
            " 611 612 613 614 615 616 617 618 619 620 621 622 623 624 625 626 627 628\n",
            " 629 630 631 632 633 634 635 636 637 638 639 640 641 642 643 644 645 646\n",
            " 647 648 649 650 651 652 653 654 655 656 657 658 659 660 661 662 663 664\n",
            " 665 666 667 668 669 670 671 672 673 674 675 676 677 678 679 680 681 682\n",
            " 683 684 685 686 687 688 689 690 691 692 693 694 695 696 697 698 699 700\n",
            " 701 702 703 704 705 706 707 708 709 710 711 712 713 714 715 716 717 718\n",
            " 719 720 721 722 723 724 725 726 727 728 729 730 731 732 733 734 735 736\n",
            " 737 738 739 740 741 742 743 744 745 746 747 748 749 750 751 752 753 754\n",
            " 755 756 757 758 759 760 761 762 763 764 765 766 767 768 769 770 771 772\n",
            " 773 774 775 776 777 778 779 780 781 782 783 784 785 786 787 788 789 790\n",
            " 791 792 793 794 795 796 797 798 799 800 801 802 803 804 805 806 807 808\n",
            " 809 810 811 812 813 814 815 816 817 818 819 820 821 822 823 824 825 826\n",
            " 827 828 829 830 831 832 833 834 835 836 837 838 839 840 841 842 843 844\n",
            " 845 846 847 848 849 850 851 852 853 854 855 856 857 858 859 860 861 862\n",
            " 863 864 865 866 867 868 869 870 871 872 873 874 875 876 877 878 879 880\n",
            " 881 882 883 884 885 886 887 888 889 890]\n",
            "Test Index [ 90  91  92  93  94  95  96  97  98  99 100 101 102 103 104 105 106 107\n",
            " 108 109 110 111 112 113 114 115 116 117 118 119 120 121 122 123 124 125\n",
            " 126 127 128 129 130 131 132 133 134 135 136 137 138 139 140 141 142 143\n",
            " 144 145 146 147 148 149 150 151 152 153 154 155 156 157 158 159 160 161\n",
            " 162 163 164 165 166 167 168 169 170 171 172 173 174 175 176 177 178]\n",
            "Training Index [  0   1   2   3   4   5   6   7   8   9  10  11  12  13  14  15  16  17\n",
            "  18  19  20  21  22  23  24  25  26  27  28  29  30  31  32  33  34  35\n",
            "  36  37  38  39  40  41  42  43  44  45  46  47  48  49  50  51  52  53\n",
            "  54  55  56  57  58  59  60  61  62  63  64  65  66  67  68  69  70  71\n",
            "  72  73  74  75  76  77  78  79  80  81  82  83  84  85  86  87  88  89\n",
            "  90  91  92  93  94  95  96  97  98  99 100 101 102 103 104 105 106 107\n",
            " 108 109 110 111 112 113 114 115 116 117 118 119 120 121 122 123 124 125\n",
            " 126 127 128 129 130 131 132 133 134 135 136 137 138 139 140 141 142 143\n",
            " 144 145 146 147 148 149 150 151 152 153 154 155 156 157 158 159 160 161\n",
            " 162 163 164 165 166 167 168 169 170 171 172 173 174 175 176 177 178 268\n",
            " 269 270 271 272 273 274 275 276 277 278 279 280 281 282 283 284 285 286\n",
            " 287 288 289 290 291 292 293 294 295 296 297 298 299 300 301 302 303 304\n",
            " 305 306 307 308 309 310 311 312 313 314 315 316 317 318 319 320 321 322\n",
            " 323 324 325 326 327 328 329 330 331 332 333 334 335 336 337 338 339 340\n",
            " 341 342 343 344 345 346 347 348 349 350 351 352 353 354 355 356 357 358\n",
            " 359 360 361 362 363 364 365 366 367 368 369 370 371 372 373 374 375 376\n",
            " 377 378 379 380 381 382 383 384 385 386 387 388 389 390 391 392 393 394\n",
            " 395 396 397 398 399 400 401 402 403 404 405 406 407 408 409 410 411 412\n",
            " 413 414 415 416 417 418 419 420 421 422 423 424 425 426 427 428 429 430\n",
            " 431 432 433 434 435 436 437 438 439 440 441 442 443 444 445 446 447 448\n",
            " 449 450 451 452 453 454 455 456 457 458 459 460 461 462 463 464 465 466\n",
            " 467 468 469 470 471 472 473 474 475 476 477 478 479 480 481 482 483 484\n",
            " 485 486 487 488 489 490 491 492 493 494 495 496 497 498 499 500 501 502\n",
            " 503 504 505 506 507 508 509 510 511 512 513 514 515 516 517 518 519 520\n",
            " 521 522 523 524 525 526 527 528 529 530 531 532 533 534 535 536 537 538\n",
            " 539 540 541 542 543 544 545 546 547 548 549 550 551 552 553 554 555 556\n",
            " 557 558 559 560 561 562 563 564 565 566 567 568 569 570 571 572 573 574\n",
            " 575 576 577 578 579 580 581 582 583 584 585 586 587 588 589 590 591 592\n",
            " 593 594 595 596 597 598 599 600 601 602 603 604 605 606 607 608 609 610\n",
            " 611 612 613 614 615 616 617 618 619 620 621 622 623 624 625 626 627 628\n",
            " 629 630 631 632 633 634 635 636 637 638 639 640 641 642 643 644 645 646\n",
            " 647 648 649 650 651 652 653 654 655 656 657 658 659 660 661 662 663 664\n",
            " 665 666 667 668 669 670 671 672 673 674 675 676 677 678 679 680 681 682\n",
            " 683 684 685 686 687 688 689 690 691 692 693 694 695 696 697 698 699 700\n",
            " 701 702 703 704 705 706 707 708 709 710 711 712 713 714 715 716 717 718\n",
            " 719 720 721 722 723 724 725 726 727 728 729 730 731 732 733 734 735 736\n",
            " 737 738 739 740 741 742 743 744 745 746 747 748 749 750 751 752 753 754\n",
            " 755 756 757 758 759 760 761 762 763 764 765 766 767 768 769 770 771 772\n",
            " 773 774 775 776 777 778 779 780 781 782 783 784 785 786 787 788 789 790\n",
            " 791 792 793 794 795 796 797 798 799 800 801 802 803 804 805 806 807 808\n",
            " 809 810 811 812 813 814 815 816 817 818 819 820 821 822 823 824 825 826\n",
            " 827 828 829 830 831 832 833 834 835 836 837 838 839 840 841 842 843 844\n",
            " 845 846 847 848 849 850 851 852 853 854 855 856 857 858 859 860 861 862\n",
            " 863 864 865 866 867 868 869 870 871 872 873 874 875 876 877 878 879 880\n",
            " 881 882 883 884 885 886 887 888 889 890]\n",
            "Test Index [179 180 181 182 183 184 185 186 187 188 189 190 191 192 193 194 195 196\n",
            " 197 198 199 200 201 202 203 204 205 206 207 208 209 210 211 212 213 214\n",
            " 215 216 217 218 219 220 221 222 223 224 225 226 227 228 229 230 231 232\n",
            " 233 234 235 236 237 238 239 240 241 242 243 244 245 246 247 248 249 250\n",
            " 251 252 253 254 255 256 257 258 259 260 261 262 263 264 265 266 267]\n",
            "Training Index [  0   1   2   3   4   5   6   7   8   9  10  11  12  13  14  15  16  17\n",
            "  18  19  20  21  22  23  24  25  26  27  28  29  30  31  32  33  34  35\n",
            "  36  37  38  39  40  41  42  43  44  45  46  47  48  49  50  51  52  53\n",
            "  54  55  56  57  58  59  60  61  62  63  64  65  66  67  68  69  70  71\n",
            "  72  73  74  75  76  77  78  79  80  81  82  83  84  85  86  87  88  89\n",
            "  90  91  92  93  94  95  96  97  98  99 100 101 102 103 104 105 106 107\n",
            " 108 109 110 111 112 113 114 115 116 117 118 119 120 121 122 123 124 125\n",
            " 126 127 128 129 130 131 132 133 134 135 136 137 138 139 140 141 142 143\n",
            " 144 145 146 147 148 149 150 151 152 153 154 155 156 157 158 159 160 161\n",
            " 162 163 164 165 166 167 168 169 170 171 172 173 174 175 176 177 178 179\n",
            " 180 181 182 183 184 185 186 187 188 189 190 191 192 193 194 195 196 197\n",
            " 198 199 200 201 202 203 204 205 206 207 208 209 210 211 212 213 214 215\n",
            " 216 217 218 219 220 221 222 223 224 225 226 227 228 229 230 231 232 233\n",
            " 234 235 236 237 238 239 240 241 242 243 244 245 246 247 248 249 250 251\n",
            " 252 253 254 255 256 257 258 259 260 261 262 263 264 265 266 267 357 358\n",
            " 359 360 361 362 363 364 365 366 367 368 369 370 371 372 373 374 375 376\n",
            " 377 378 379 380 381 382 383 384 385 386 387 388 389 390 391 392 393 394\n",
            " 395 396 397 398 399 400 401 402 403 404 405 406 407 408 409 410 411 412\n",
            " 413 414 415 416 417 418 419 420 421 422 423 424 425 426 427 428 429 430\n",
            " 431 432 433 434 435 436 437 438 439 440 441 442 443 444 445 446 447 448\n",
            " 449 450 451 452 453 454 455 456 457 458 459 460 461 462 463 464 465 466\n",
            " 467 468 469 470 471 472 473 474 475 476 477 478 479 480 481 482 483 484\n",
            " 485 486 487 488 489 490 491 492 493 494 495 496 497 498 499 500 501 502\n",
            " 503 504 505 506 507 508 509 510 511 512 513 514 515 516 517 518 519 520\n",
            " 521 522 523 524 525 526 527 528 529 530 531 532 533 534 535 536 537 538\n",
            " 539 540 541 542 543 544 545 546 547 548 549 550 551 552 553 554 555 556\n",
            " 557 558 559 560 561 562 563 564 565 566 567 568 569 570 571 572 573 574\n",
            " 575 576 577 578 579 580 581 582 583 584 585 586 587 588 589 590 591 592\n",
            " 593 594 595 596 597 598 599 600 601 602 603 604 605 606 607 608 609 610\n",
            " 611 612 613 614 615 616 617 618 619 620 621 622 623 624 625 626 627 628\n",
            " 629 630 631 632 633 634 635 636 637 638 639 640 641 642 643 644 645 646\n",
            " 647 648 649 650 651 652 653 654 655 656 657 658 659 660 661 662 663 664\n",
            " 665 666 667 668 669 670 671 672 673 674 675 676 677 678 679 680 681 682\n",
            " 683 684 685 686 687 688 689 690 691 692 693 694 695 696 697 698 699 700\n",
            " 701 702 703 704 705 706 707 708 709 710 711 712 713 714 715 716 717 718\n",
            " 719 720 721 722 723 724 725 726 727 728 729 730 731 732 733 734 735 736\n",
            " 737 738 739 740 741 742 743 744 745 746 747 748 749 750 751 752 753 754\n",
            " 755 756 757 758 759 760 761 762 763 764 765 766 767 768 769 770 771 772\n",
            " 773 774 775 776 777 778 779 780 781 782 783 784 785 786 787 788 789 790\n",
            " 791 792 793 794 795 796 797 798 799 800 801 802 803 804 805 806 807 808\n",
            " 809 810 811 812 813 814 815 816 817 818 819 820 821 822 823 824 825 826\n",
            " 827 828 829 830 831 832 833 834 835 836 837 838 839 840 841 842 843 844\n",
            " 845 846 847 848 849 850 851 852 853 854 855 856 857 858 859 860 861 862\n",
            " 863 864 865 866 867 868 869 870 871 872 873 874 875 876 877 878 879 880\n",
            " 881 882 883 884 885 886 887 888 889 890]\n",
            "Test Index [268 269 270 271 272 273 274 275 276 277 278 279 280 281 282 283 284 285\n",
            " 286 287 288 289 290 291 292 293 294 295 296 297 298 299 300 301 302 303\n",
            " 304 305 306 307 308 309 310 311 312 313 314 315 316 317 318 319 320 321\n",
            " 322 323 324 325 326 327 328 329 330 331 332 333 334 335 336 337 338 339\n",
            " 340 341 342 343 344 345 346 347 348 349 350 351 352 353 354 355 356]\n",
            "Training Index [  0   1   2   3   4   5   6   7   8   9  10  11  12  13  14  15  16  17\n",
            "  18  19  20  21  22  23  24  25  26  27  28  29  30  31  32  33  34  35\n",
            "  36  37  38  39  40  41  42  43  44  45  46  47  48  49  50  51  52  53\n",
            "  54  55  56  57  58  59  60  61  62  63  64  65  66  67  68  69  70  71\n",
            "  72  73  74  75  76  77  78  79  80  81  82  83  84  85  86  87  88  89\n",
            "  90  91  92  93  94  95  96  97  98  99 100 101 102 103 104 105 106 107\n",
            " 108 109 110 111 112 113 114 115 116 117 118 119 120 121 122 123 124 125\n",
            " 126 127 128 129 130 131 132 133 134 135 136 137 138 139 140 141 142 143\n",
            " 144 145 146 147 148 149 150 151 152 153 154 155 156 157 158 159 160 161\n",
            " 162 163 164 165 166 167 168 169 170 171 172 173 174 175 176 177 178 179\n",
            " 180 181 182 183 184 185 186 187 188 189 190 191 192 193 194 195 196 197\n",
            " 198 199 200 201 202 203 204 205 206 207 208 209 210 211 212 213 214 215\n",
            " 216 217 218 219 220 221 222 223 224 225 226 227 228 229 230 231 232 233\n",
            " 234 235 236 237 238 239 240 241 242 243 244 245 246 247 248 249 250 251\n",
            " 252 253 254 255 256 257 258 259 260 261 262 263 264 265 266 267 268 269\n",
            " 270 271 272 273 274 275 276 277 278 279 280 281 282 283 284 285 286 287\n",
            " 288 289 290 291 292 293 294 295 296 297 298 299 300 301 302 303 304 305\n",
            " 306 307 308 309 310 311 312 313 314 315 316 317 318 319 320 321 322 323\n",
            " 324 325 326 327 328 329 330 331 332 333 334 335 336 337 338 339 340 341\n",
            " 342 343 344 345 346 347 348 349 350 351 352 353 354 355 356 446 447 448\n",
            " 449 450 451 452 453 454 455 456 457 458 459 460 461 462 463 464 465 466\n",
            " 467 468 469 470 471 472 473 474 475 476 477 478 479 480 481 482 483 484\n",
            " 485 486 487 488 489 490 491 492 493 494 495 496 497 498 499 500 501 502\n",
            " 503 504 505 506 507 508 509 510 511 512 513 514 515 516 517 518 519 520\n",
            " 521 522 523 524 525 526 527 528 529 530 531 532 533 534 535 536 537 538\n",
            " 539 540 541 542 543 544 545 546 547 548 549 550 551 552 553 554 555 556\n",
            " 557 558 559 560 561 562 563 564 565 566 567 568 569 570 571 572 573 574\n",
            " 575 576 577 578 579 580 581 582 583 584 585 586 587 588 589 590 591 592\n",
            " 593 594 595 596 597 598 599 600 601 602 603 604 605 606 607 608 609 610\n",
            " 611 612 613 614 615 616 617 618 619 620 621 622 623 624 625 626 627 628\n",
            " 629 630 631 632 633 634 635 636 637 638 639 640 641 642 643 644 645 646\n",
            " 647 648 649 650 651 652 653 654 655 656 657 658 659 660 661 662 663 664\n",
            " 665 666 667 668 669 670 671 672 673 674 675 676 677 678 679 680 681 682\n",
            " 683 684 685 686 687 688 689 690 691 692 693 694 695 696 697 698 699 700\n",
            " 701 702 703 704 705 706 707 708 709 710 711 712 713 714 715 716 717 718\n",
            " 719 720 721 722 723 724 725 726 727 728 729 730 731 732 733 734 735 736\n",
            " 737 738 739 740 741 742 743 744 745 746 747 748 749 750 751 752 753 754\n",
            " 755 756 757 758 759 760 761 762 763 764 765 766 767 768 769 770 771 772\n",
            " 773 774 775 776 777 778 779 780 781 782 783 784 785 786 787 788 789 790\n",
            " 791 792 793 794 795 796 797 798 799 800 801 802 803 804 805 806 807 808\n",
            " 809 810 811 812 813 814 815 816 817 818 819 820 821 822 823 824 825 826\n",
            " 827 828 829 830 831 832 833 834 835 836 837 838 839 840 841 842 843 844\n",
            " 845 846 847 848 849 850 851 852 853 854 855 856 857 858 859 860 861 862\n",
            " 863 864 865 866 867 868 869 870 871 872 873 874 875 876 877 878 879 880\n",
            " 881 882 883 884 885 886 887 888 889 890]\n",
            "Test Index [357 358 359 360 361 362 363 364 365 366 367 368 369 370 371 372 373 374\n",
            " 375 376 377 378 379 380 381 382 383 384 385 386 387 388 389 390 391 392\n",
            " 393 394 395 396 397 398 399 400 401 402 403 404 405 406 407 408 409 410\n",
            " 411 412 413 414 415 416 417 418 419 420 421 422 423 424 425 426 427 428\n",
            " 429 430 431 432 433 434 435 436 437 438 439 440 441 442 443 444 445]\n",
            "Training Index [  0   1   2   3   4   5   6   7   8   9  10  11  12  13  14  15  16  17\n",
            "  18  19  20  21  22  23  24  25  26  27  28  29  30  31  32  33  34  35\n",
            "  36  37  38  39  40  41  42  43  44  45  46  47  48  49  50  51  52  53\n",
            "  54  55  56  57  58  59  60  61  62  63  64  65  66  67  68  69  70  71\n",
            "  72  73  74  75  76  77  78  79  80  81  82  83  84  85  86  87  88  89\n",
            "  90  91  92  93  94  95  96  97  98  99 100 101 102 103 104 105 106 107\n",
            " 108 109 110 111 112 113 114 115 116 117 118 119 120 121 122 123 124 125\n",
            " 126 127 128 129 130 131 132 133 134 135 136 137 138 139 140 141 142 143\n",
            " 144 145 146 147 148 149 150 151 152 153 154 155 156 157 158 159 160 161\n",
            " 162 163 164 165 166 167 168 169 170 171 172 173 174 175 176 177 178 179\n",
            " 180 181 182 183 184 185 186 187 188 189 190 191 192 193 194 195 196 197\n",
            " 198 199 200 201 202 203 204 205 206 207 208 209 210 211 212 213 214 215\n",
            " 216 217 218 219 220 221 222 223 224 225 226 227 228 229 230 231 232 233\n",
            " 234 235 236 237 238 239 240 241 242 243 244 245 246 247 248 249 250 251\n",
            " 252 253 254 255 256 257 258 259 260 261 262 263 264 265 266 267 268 269\n",
            " 270 271 272 273 274 275 276 277 278 279 280 281 282 283 284 285 286 287\n",
            " 288 289 290 291 292 293 294 295 296 297 298 299 300 301 302 303 304 305\n",
            " 306 307 308 309 310 311 312 313 314 315 316 317 318 319 320 321 322 323\n",
            " 324 325 326 327 328 329 330 331 332 333 334 335 336 337 338 339 340 341\n",
            " 342 343 344 345 346 347 348 349 350 351 352 353 354 355 356 357 358 359\n",
            " 360 361 362 363 364 365 366 367 368 369 370 371 372 373 374 375 376 377\n",
            " 378 379 380 381 382 383 384 385 386 387 388 389 390 391 392 393 394 395\n",
            " 396 397 398 399 400 401 402 403 404 405 406 407 408 409 410 411 412 413\n",
            " 414 415 416 417 418 419 420 421 422 423 424 425 426 427 428 429 430 431\n",
            " 432 433 434 435 436 437 438 439 440 441 442 443 444 445 535 536 537 538\n",
            " 539 540 541 542 543 544 545 546 547 548 549 550 551 552 553 554 555 556\n",
            " 557 558 559 560 561 562 563 564 565 566 567 568 569 570 571 572 573 574\n",
            " 575 576 577 578 579 580 581 582 583 584 585 586 587 588 589 590 591 592\n",
            " 593 594 595 596 597 598 599 600 601 602 603 604 605 606 607 608 609 610\n",
            " 611 612 613 614 615 616 617 618 619 620 621 622 623 624 625 626 627 628\n",
            " 629 630 631 632 633 634 635 636 637 638 639 640 641 642 643 644 645 646\n",
            " 647 648 649 650 651 652 653 654 655 656 657 658 659 660 661 662 663 664\n",
            " 665 666 667 668 669 670 671 672 673 674 675 676 677 678 679 680 681 682\n",
            " 683 684 685 686 687 688 689 690 691 692 693 694 695 696 697 698 699 700\n",
            " 701 702 703 704 705 706 707 708 709 710 711 712 713 714 715 716 717 718\n",
            " 719 720 721 722 723 724 725 726 727 728 729 730 731 732 733 734 735 736\n",
            " 737 738 739 740 741 742 743 744 745 746 747 748 749 750 751 752 753 754\n",
            " 755 756 757 758 759 760 761 762 763 764 765 766 767 768 769 770 771 772\n",
            " 773 774 775 776 777 778 779 780 781 782 783 784 785 786 787 788 789 790\n",
            " 791 792 793 794 795 796 797 798 799 800 801 802 803 804 805 806 807 808\n",
            " 809 810 811 812 813 814 815 816 817 818 819 820 821 822 823 824 825 826\n",
            " 827 828 829 830 831 832 833 834 835 836 837 838 839 840 841 842 843 844\n",
            " 845 846 847 848 849 850 851 852 853 854 855 856 857 858 859 860 861 862\n",
            " 863 864 865 866 867 868 869 870 871 872 873 874 875 876 877 878 879 880\n",
            " 881 882 883 884 885 886 887 888 889 890]\n",
            "Test Index [446 447 448 449 450 451 452 453 454 455 456 457 458 459 460 461 462 463\n",
            " 464 465 466 467 468 469 470 471 472 473 474 475 476 477 478 479 480 481\n",
            " 482 483 484 485 486 487 488 489 490 491 492 493 494 495 496 497 498 499\n",
            " 500 501 502 503 504 505 506 507 508 509 510 511 512 513 514 515 516 517\n",
            " 518 519 520 521 522 523 524 525 526 527 528 529 530 531 532 533 534]\n",
            "Training Index [  0   1   2   3   4   5   6   7   8   9  10  11  12  13  14  15  16  17\n",
            "  18  19  20  21  22  23  24  25  26  27  28  29  30  31  32  33  34  35\n",
            "  36  37  38  39  40  41  42  43  44  45  46  47  48  49  50  51  52  53\n",
            "  54  55  56  57  58  59  60  61  62  63  64  65  66  67  68  69  70  71\n",
            "  72  73  74  75  76  77  78  79  80  81  82  83  84  85  86  87  88  89\n",
            "  90  91  92  93  94  95  96  97  98  99 100 101 102 103 104 105 106 107\n",
            " 108 109 110 111 112 113 114 115 116 117 118 119 120 121 122 123 124 125\n",
            " 126 127 128 129 130 131 132 133 134 135 136 137 138 139 140 141 142 143\n",
            " 144 145 146 147 148 149 150 151 152 153 154 155 156 157 158 159 160 161\n",
            " 162 163 164 165 166 167 168 169 170 171 172 173 174 175 176 177 178 179\n",
            " 180 181 182 183 184 185 186 187 188 189 190 191 192 193 194 195 196 197\n",
            " 198 199 200 201 202 203 204 205 206 207 208 209 210 211 212 213 214 215\n",
            " 216 217 218 219 220 221 222 223 224 225 226 227 228 229 230 231 232 233\n",
            " 234 235 236 237 238 239 240 241 242 243 244 245 246 247 248 249 250 251\n",
            " 252 253 254 255 256 257 258 259 260 261 262 263 264 265 266 267 268 269\n",
            " 270 271 272 273 274 275 276 277 278 279 280 281 282 283 284 285 286 287\n",
            " 288 289 290 291 292 293 294 295 296 297 298 299 300 301 302 303 304 305\n",
            " 306 307 308 309 310 311 312 313 314 315 316 317 318 319 320 321 322 323\n",
            " 324 325 326 327 328 329 330 331 332 333 334 335 336 337 338 339 340 341\n",
            " 342 343 344 345 346 347 348 349 350 351 352 353 354 355 356 357 358 359\n",
            " 360 361 362 363 364 365 366 367 368 369 370 371 372 373 374 375 376 377\n",
            " 378 379 380 381 382 383 384 385 386 387 388 389 390 391 392 393 394 395\n",
            " 396 397 398 399 400 401 402 403 404 405 406 407 408 409 410 411 412 413\n",
            " 414 415 416 417 418 419 420 421 422 423 424 425 426 427 428 429 430 431\n",
            " 432 433 434 435 436 437 438 439 440 441 442 443 444 445 446 447 448 449\n",
            " 450 451 452 453 454 455 456 457 458 459 460 461 462 463 464 465 466 467\n",
            " 468 469 470 471 472 473 474 475 476 477 478 479 480 481 482 483 484 485\n",
            " 486 487 488 489 490 491 492 493 494 495 496 497 498 499 500 501 502 503\n",
            " 504 505 506 507 508 509 510 511 512 513 514 515 516 517 518 519 520 521\n",
            " 522 523 524 525 526 527 528 529 530 531 532 533 534 624 625 626 627 628\n",
            " 629 630 631 632 633 634 635 636 637 638 639 640 641 642 643 644 645 646\n",
            " 647 648 649 650 651 652 653 654 655 656 657 658 659 660 661 662 663 664\n",
            " 665 666 667 668 669 670 671 672 673 674 675 676 677 678 679 680 681 682\n",
            " 683 684 685 686 687 688 689 690 691 692 693 694 695 696 697 698 699 700\n",
            " 701 702 703 704 705 706 707 708 709 710 711 712 713 714 715 716 717 718\n",
            " 719 720 721 722 723 724 725 726 727 728 729 730 731 732 733 734 735 736\n",
            " 737 738 739 740 741 742 743 744 745 746 747 748 749 750 751 752 753 754\n",
            " 755 756 757 758 759 760 761 762 763 764 765 766 767 768 769 770 771 772\n",
            " 773 774 775 776 777 778 779 780 781 782 783 784 785 786 787 788 789 790\n",
            " 791 792 793 794 795 796 797 798 799 800 801 802 803 804 805 806 807 808\n",
            " 809 810 811 812 813 814 815 816 817 818 819 820 821 822 823 824 825 826\n",
            " 827 828 829 830 831 832 833 834 835 836 837 838 839 840 841 842 843 844\n",
            " 845 846 847 848 849 850 851 852 853 854 855 856 857 858 859 860 861 862\n",
            " 863 864 865 866 867 868 869 870 871 872 873 874 875 876 877 878 879 880\n",
            " 881 882 883 884 885 886 887 888 889 890]\n",
            "Test Index [535 536 537 538 539 540 541 542 543 544 545 546 547 548 549 550 551 552\n",
            " 553 554 555 556 557 558 559 560 561 562 563 564 565 566 567 568 569 570\n",
            " 571 572 573 574 575 576 577 578 579 580 581 582 583 584 585 586 587 588\n",
            " 589 590 591 592 593 594 595 596 597 598 599 600 601 602 603 604 605 606\n",
            " 607 608 609 610 611 612 613 614 615 616 617 618 619 620 621 622 623]\n",
            "Training Index [  0   1   2   3   4   5   6   7   8   9  10  11  12  13  14  15  16  17\n",
            "  18  19  20  21  22  23  24  25  26  27  28  29  30  31  32  33  34  35\n",
            "  36  37  38  39  40  41  42  43  44  45  46  47  48  49  50  51  52  53\n",
            "  54  55  56  57  58  59  60  61  62  63  64  65  66  67  68  69  70  71\n",
            "  72  73  74  75  76  77  78  79  80  81  82  83  84  85  86  87  88  89\n",
            "  90  91  92  93  94  95  96  97  98  99 100 101 102 103 104 105 106 107\n",
            " 108 109 110 111 112 113 114 115 116 117 118 119 120 121 122 123 124 125\n",
            " 126 127 128 129 130 131 132 133 134 135 136 137 138 139 140 141 142 143\n",
            " 144 145 146 147 148 149 150 151 152 153 154 155 156 157 158 159 160 161\n",
            " 162 163 164 165 166 167 168 169 170 171 172 173 174 175 176 177 178 179\n",
            " 180 181 182 183 184 185 186 187 188 189 190 191 192 193 194 195 196 197\n",
            " 198 199 200 201 202 203 204 205 206 207 208 209 210 211 212 213 214 215\n",
            " 216 217 218 219 220 221 222 223 224 225 226 227 228 229 230 231 232 233\n",
            " 234 235 236 237 238 239 240 241 242 243 244 245 246 247 248 249 250 251\n",
            " 252 253 254 255 256 257 258 259 260 261 262 263 264 265 266 267 268 269\n",
            " 270 271 272 273 274 275 276 277 278 279 280 281 282 283 284 285 286 287\n",
            " 288 289 290 291 292 293 294 295 296 297 298 299 300 301 302 303 304 305\n",
            " 306 307 308 309 310 311 312 313 314 315 316 317 318 319 320 321 322 323\n",
            " 324 325 326 327 328 329 330 331 332 333 334 335 336 337 338 339 340 341\n",
            " 342 343 344 345 346 347 348 349 350 351 352 353 354 355 356 357 358 359\n",
            " 360 361 362 363 364 365 366 367 368 369 370 371 372 373 374 375 376 377\n",
            " 378 379 380 381 382 383 384 385 386 387 388 389 390 391 392 393 394 395\n",
            " 396 397 398 399 400 401 402 403 404 405 406 407 408 409 410 411 412 413\n",
            " 414 415 416 417 418 419 420 421 422 423 424 425 426 427 428 429 430 431\n",
            " 432 433 434 435 436 437 438 439 440 441 442 443 444 445 446 447 448 449\n",
            " 450 451 452 453 454 455 456 457 458 459 460 461 462 463 464 465 466 467\n",
            " 468 469 470 471 472 473 474 475 476 477 478 479 480 481 482 483 484 485\n",
            " 486 487 488 489 490 491 492 493 494 495 496 497 498 499 500 501 502 503\n",
            " 504 505 506 507 508 509 510 511 512 513 514 515 516 517 518 519 520 521\n",
            " 522 523 524 525 526 527 528 529 530 531 532 533 534 535 536 537 538 539\n",
            " 540 541 542 543 544 545 546 547 548 549 550 551 552 553 554 555 556 557\n",
            " 558 559 560 561 562 563 564 565 566 567 568 569 570 571 572 573 574 575\n",
            " 576 577 578 579 580 581 582 583 584 585 586 587 588 589 590 591 592 593\n",
            " 594 595 596 597 598 599 600 601 602 603 604 605 606 607 608 609 610 611\n",
            " 612 613 614 615 616 617 618 619 620 621 622 623 713 714 715 716 717 718\n",
            " 719 720 721 722 723 724 725 726 727 728 729 730 731 732 733 734 735 736\n",
            " 737 738 739 740 741 742 743 744 745 746 747 748 749 750 751 752 753 754\n",
            " 755 756 757 758 759 760 761 762 763 764 765 766 767 768 769 770 771 772\n",
            " 773 774 775 776 777 778 779 780 781 782 783 784 785 786 787 788 789 790\n",
            " 791 792 793 794 795 796 797 798 799 800 801 802 803 804 805 806 807 808\n",
            " 809 810 811 812 813 814 815 816 817 818 819 820 821 822 823 824 825 826\n",
            " 827 828 829 830 831 832 833 834 835 836 837 838 839 840 841 842 843 844\n",
            " 845 846 847 848 849 850 851 852 853 854 855 856 857 858 859 860 861 862\n",
            " 863 864 865 866 867 868 869 870 871 872 873 874 875 876 877 878 879 880\n",
            " 881 882 883 884 885 886 887 888 889 890]\n",
            "Test Index [624 625 626 627 628 629 630 631 632 633 634 635 636 637 638 639 640 641\n",
            " 642 643 644 645 646 647 648 649 650 651 652 653 654 655 656 657 658 659\n",
            " 660 661 662 663 664 665 666 667 668 669 670 671 672 673 674 675 676 677\n",
            " 678 679 680 681 682 683 684 685 686 687 688 689 690 691 692 693 694 695\n",
            " 696 697 698 699 700 701 702 703 704 705 706 707 708 709 710 711 712]\n",
            "Training Index [  0   1   2   3   4   5   6   7   8   9  10  11  12  13  14  15  16  17\n",
            "  18  19  20  21  22  23  24  25  26  27  28  29  30  31  32  33  34  35\n",
            "  36  37  38  39  40  41  42  43  44  45  46  47  48  49  50  51  52  53\n",
            "  54  55  56  57  58  59  60  61  62  63  64  65  66  67  68  69  70  71\n",
            "  72  73  74  75  76  77  78  79  80  81  82  83  84  85  86  87  88  89\n",
            "  90  91  92  93  94  95  96  97  98  99 100 101 102 103 104 105 106 107\n",
            " 108 109 110 111 112 113 114 115 116 117 118 119 120 121 122 123 124 125\n",
            " 126 127 128 129 130 131 132 133 134 135 136 137 138 139 140 141 142 143\n",
            " 144 145 146 147 148 149 150 151 152 153 154 155 156 157 158 159 160 161\n",
            " 162 163 164 165 166 167 168 169 170 171 172 173 174 175 176 177 178 179\n",
            " 180 181 182 183 184 185 186 187 188 189 190 191 192 193 194 195 196 197\n",
            " 198 199 200 201 202 203 204 205 206 207 208 209 210 211 212 213 214 215\n",
            " 216 217 218 219 220 221 222 223 224 225 226 227 228 229 230 231 232 233\n",
            " 234 235 236 237 238 239 240 241 242 243 244 245 246 247 248 249 250 251\n",
            " 252 253 254 255 256 257 258 259 260 261 262 263 264 265 266 267 268 269\n",
            " 270 271 272 273 274 275 276 277 278 279 280 281 282 283 284 285 286 287\n",
            " 288 289 290 291 292 293 294 295 296 297 298 299 300 301 302 303 304 305\n",
            " 306 307 308 309 310 311 312 313 314 315 316 317 318 319 320 321 322 323\n",
            " 324 325 326 327 328 329 330 331 332 333 334 335 336 337 338 339 340 341\n",
            " 342 343 344 345 346 347 348 349 350 351 352 353 354 355 356 357 358 359\n",
            " 360 361 362 363 364 365 366 367 368 369 370 371 372 373 374 375 376 377\n",
            " 378 379 380 381 382 383 384 385 386 387 388 389 390 391 392 393 394 395\n",
            " 396 397 398 399 400 401 402 403 404 405 406 407 408 409 410 411 412 413\n",
            " 414 415 416 417 418 419 420 421 422 423 424 425 426 427 428 429 430 431\n",
            " 432 433 434 435 436 437 438 439 440 441 442 443 444 445 446 447 448 449\n",
            " 450 451 452 453 454 455 456 457 458 459 460 461 462 463 464 465 466 467\n",
            " 468 469 470 471 472 473 474 475 476 477 478 479 480 481 482 483 484 485\n",
            " 486 487 488 489 490 491 492 493 494 495 496 497 498 499 500 501 502 503\n",
            " 504 505 506 507 508 509 510 511 512 513 514 515 516 517 518 519 520 521\n",
            " 522 523 524 525 526 527 528 529 530 531 532 533 534 535 536 537 538 539\n",
            " 540 541 542 543 544 545 546 547 548 549 550 551 552 553 554 555 556 557\n",
            " 558 559 560 561 562 563 564 565 566 567 568 569 570 571 572 573 574 575\n",
            " 576 577 578 579 580 581 582 583 584 585 586 587 588 589 590 591 592 593\n",
            " 594 595 596 597 598 599 600 601 602 603 604 605 606 607 608 609 610 611\n",
            " 612 613 614 615 616 617 618 619 620 621 622 623 624 625 626 627 628 629\n",
            " 630 631 632 633 634 635 636 637 638 639 640 641 642 643 644 645 646 647\n",
            " 648 649 650 651 652 653 654 655 656 657 658 659 660 661 662 663 664 665\n",
            " 666 667 668 669 670 671 672 673 674 675 676 677 678 679 680 681 682 683\n",
            " 684 685 686 687 688 689 690 691 692 693 694 695 696 697 698 699 700 701\n",
            " 702 703 704 705 706 707 708 709 710 711 712 802 803 804 805 806 807 808\n",
            " 809 810 811 812 813 814 815 816 817 818 819 820 821 822 823 824 825 826\n",
            " 827 828 829 830 831 832 833 834 835 836 837 838 839 840 841 842 843 844\n",
            " 845 846 847 848 849 850 851 852 853 854 855 856 857 858 859 860 861 862\n",
            " 863 864 865 866 867 868 869 870 871 872 873 874 875 876 877 878 879 880\n",
            " 881 882 883 884 885 886 887 888 889 890]\n",
            "Test Index [713 714 715 716 717 718 719 720 721 722 723 724 725 726 727 728 729 730\n",
            " 731 732 733 734 735 736 737 738 739 740 741 742 743 744 745 746 747 748\n",
            " 749 750 751 752 753 754 755 756 757 758 759 760 761 762 763 764 765 766\n",
            " 767 768 769 770 771 772 773 774 775 776 777 778 779 780 781 782 783 784\n",
            " 785 786 787 788 789 790 791 792 793 794 795 796 797 798 799 800 801]\n",
            "Training Index [  0   1   2   3   4   5   6   7   8   9  10  11  12  13  14  15  16  17\n",
            "  18  19  20  21  22  23  24  25  26  27  28  29  30  31  32  33  34  35\n",
            "  36  37  38  39  40  41  42  43  44  45  46  47  48  49  50  51  52  53\n",
            "  54  55  56  57  58  59  60  61  62  63  64  65  66  67  68  69  70  71\n",
            "  72  73  74  75  76  77  78  79  80  81  82  83  84  85  86  87  88  89\n",
            "  90  91  92  93  94  95  96  97  98  99 100 101 102 103 104 105 106 107\n",
            " 108 109 110 111 112 113 114 115 116 117 118 119 120 121 122 123 124 125\n",
            " 126 127 128 129 130 131 132 133 134 135 136 137 138 139 140 141 142 143\n",
            " 144 145 146 147 148 149 150 151 152 153 154 155 156 157 158 159 160 161\n",
            " 162 163 164 165 166 167 168 169 170 171 172 173 174 175 176 177 178 179\n",
            " 180 181 182 183 184 185 186 187 188 189 190 191 192 193 194 195 196 197\n",
            " 198 199 200 201 202 203 204 205 206 207 208 209 210 211 212 213 214 215\n",
            " 216 217 218 219 220 221 222 223 224 225 226 227 228 229 230 231 232 233\n",
            " 234 235 236 237 238 239 240 241 242 243 244 245 246 247 248 249 250 251\n",
            " 252 253 254 255 256 257 258 259 260 261 262 263 264 265 266 267 268 269\n",
            " 270 271 272 273 274 275 276 277 278 279 280 281 282 283 284 285 286 287\n",
            " 288 289 290 291 292 293 294 295 296 297 298 299 300 301 302 303 304 305\n",
            " 306 307 308 309 310 311 312 313 314 315 316 317 318 319 320 321 322 323\n",
            " 324 325 326 327 328 329 330 331 332 333 334 335 336 337 338 339 340 341\n",
            " 342 343 344 345 346 347 348 349 350 351 352 353 354 355 356 357 358 359\n",
            " 360 361 362 363 364 365 366 367 368 369 370 371 372 373 374 375 376 377\n",
            " 378 379 380 381 382 383 384 385 386 387 388 389 390 391 392 393 394 395\n",
            " 396 397 398 399 400 401 402 403 404 405 406 407 408 409 410 411 412 413\n",
            " 414 415 416 417 418 419 420 421 422 423 424 425 426 427 428 429 430 431\n",
            " 432 433 434 435 436 437 438 439 440 441 442 443 444 445 446 447 448 449\n",
            " 450 451 452 453 454 455 456 457 458 459 460 461 462 463 464 465 466 467\n",
            " 468 469 470 471 472 473 474 475 476 477 478 479 480 481 482 483 484 485\n",
            " 486 487 488 489 490 491 492 493 494 495 496 497 498 499 500 501 502 503\n",
            " 504 505 506 507 508 509 510 511 512 513 514 515 516 517 518 519 520 521\n",
            " 522 523 524 525 526 527 528 529 530 531 532 533 534 535 536 537 538 539\n",
            " 540 541 542 543 544 545 546 547 548 549 550 551 552 553 554 555 556 557\n",
            " 558 559 560 561 562 563 564 565 566 567 568 569 570 571 572 573 574 575\n",
            " 576 577 578 579 580 581 582 583 584 585 586 587 588 589 590 591 592 593\n",
            " 594 595 596 597 598 599 600 601 602 603 604 605 606 607 608 609 610 611\n",
            " 612 613 614 615 616 617 618 619 620 621 622 623 624 625 626 627 628 629\n",
            " 630 631 632 633 634 635 636 637 638 639 640 641 642 643 644 645 646 647\n",
            " 648 649 650 651 652 653 654 655 656 657 658 659 660 661 662 663 664 665\n",
            " 666 667 668 669 670 671 672 673 674 675 676 677 678 679 680 681 682 683\n",
            " 684 685 686 687 688 689 690 691 692 693 694 695 696 697 698 699 700 701\n",
            " 702 703 704 705 706 707 708 709 710 711 712 713 714 715 716 717 718 719\n",
            " 720 721 722 723 724 725 726 727 728 729 730 731 732 733 734 735 736 737\n",
            " 738 739 740 741 742 743 744 745 746 747 748 749 750 751 752 753 754 755\n",
            " 756 757 758 759 760 761 762 763 764 765 766 767 768 769 770 771 772 773\n",
            " 774 775 776 777 778 779 780 781 782 783 784 785 786 787 788 789 790 791\n",
            " 792 793 794 795 796 797 798 799 800 801]\n",
            "Test Index [802 803 804 805 806 807 808 809 810 811 812 813 814 815 816 817 818 819\n",
            " 820 821 822 823 824 825 826 827 828 829 830 831 832 833 834 835 836 837\n",
            " 838 839 840 841 842 843 844 845 846 847 848 849 850 851 852 853 854 855\n",
            " 856 857 858 859 860 861 862 863 864 865 866 867 868 869 870 871 872 873\n",
            " 874 875 876 877 878 879 880 881 882 883 884 885 886 887 888 889 890]\n"
          ]
        }
      ]
    },
    {
      "cell_type": "code",
      "source": [
        "from sklearn.model_selection import cross_val_score"
      ],
      "metadata": {
        "id": "2CBrPkJUWM7b"
      },
      "execution_count": 190,
      "outputs": []
    },
    {
      "cell_type": "code",
      "source": [
        "cv_result=cross_val_score(lrmodel,x,y,cv=k)\n"
      ],
      "metadata": {
        "id": "nCEWqJubXLzS"
      },
      "execution_count": 191,
      "outputs": []
    },
    {
      "cell_type": "code",
      "source": [
        "cv_result"
      ],
      "metadata": {
        "colab": {
          "base_uri": "https://localhost:8080/"
        },
        "id": "jFexr4rFiV7w",
        "outputId": "88788190-e08c-4c29-8285-a8ee9f5dc642"
      },
      "execution_count": 192,
      "outputs": [
        {
          "output_type": "execute_result",
          "data": {
            "text/plain": [
              "array([0.61111111, 0.65168539, 0.74157303, 0.62921348, 0.71910112,\n",
              "       0.70786517, 0.71910112, 0.71910112, 0.71910112, 0.75280899])"
            ]
          },
          "metadata": {},
          "execution_count": 192
        }
      ]
    },
    {
      "cell_type": "code",
      "source": [
        "np.mean(cv_result)"
      ],
      "metadata": {
        "colab": {
          "base_uri": "https://localhost:8080/"
        },
        "id": "nNxM1AuvjYOX",
        "outputId": "91368d7a-1b3a-4073-b75d-1950d8048e1f"
      },
      "execution_count": 193,
      "outputs": [
        {
          "output_type": "execute_result",
          "data": {
            "text/plain": [
              "0.6970661672908863"
            ]
          },
          "metadata": {},
          "execution_count": 193
        }
      ]
    },
    {
      "cell_type": "markdown",
      "source": [
        "##Stratified K-Fold Cross Validation"
      ],
      "metadata": {
        "id": "xelqMljBk2HX"
      }
    },
    {
      "cell_type": "code",
      "source": [
        "from sklearn.model_selection import StratifiedKFold\n",
        "sk=StratifiedKFold(n_splits=10)"
      ],
      "metadata": {
        "id": "KZl-LyrymGJJ"
      },
      "execution_count": 184,
      "outputs": []
    },
    {
      "cell_type": "code",
      "source": [
        "for train_index,test_index in sk.split(x,y):\n",
        "  print('Training Index',train_index)\n",
        "  print('Test Index',test_index)"
      ],
      "metadata": {
        "colab": {
          "base_uri": "https://localhost:8080/"
        },
        "id": "rAKt10UQma9u",
        "outputId": "524ccb6c-6183-49d3-90b1-84eaf498b835"
      },
      "execution_count": 185,
      "outputs": [
        {
          "output_type": "stream",
          "name": "stdout",
          "text": [
            "Training Index [ 82  84  85  88  94  95  96  97  98  99 100 101 102 103 104 105 106 107\n",
            " 108 109 110 111 112 113 114 115 116 117 118 119 120 121 122 123 124 125\n",
            " 126 127 128 129 130 131 132 133 134 135 136 137 138 139 140 141 142 143\n",
            " 144 145 146 147 148 149 150 151 152 153 154 155 156 157 158 159 160 161\n",
            " 162 163 164 165 166 167 168 169 170 171 172 173 174 175 176 177 178 179\n",
            " 180 181 182 183 184 185 186 187 188 189 190 191 192 193 194 195 196 197\n",
            " 198 199 200 201 202 203 204 205 206 207 208 209 210 211 212 213 214 215\n",
            " 216 217 218 219 220 221 222 223 224 225 226 227 228 229 230 231 232 233\n",
            " 234 235 236 237 238 239 240 241 242 243 244 245 246 247 248 249 250 251\n",
            " 252 253 254 255 256 257 258 259 260 261 262 263 264 265 266 267 268 269\n",
            " 270 271 272 273 274 275 276 277 278 279 280 281 282 283 284 285 286 287\n",
            " 288 289 290 291 292 293 294 295 296 297 298 299 300 301 302 303 304 305\n",
            " 306 307 308 309 310 311 312 313 314 315 316 317 318 319 320 321 322 323\n",
            " 324 325 326 327 328 329 330 331 332 333 334 335 336 337 338 339 340 341\n",
            " 342 343 344 345 346 347 348 349 350 351 352 353 354 355 356 357 358 359\n",
            " 360 361 362 363 364 365 366 367 368 369 370 371 372 373 374 375 376 377\n",
            " 378 379 380 381 382 383 384 385 386 387 388 389 390 391 392 393 394 395\n",
            " 396 397 398 399 400 401 402 403 404 405 406 407 408 409 410 411 412 413\n",
            " 414 415 416 417 418 419 420 421 422 423 424 425 426 427 428 429 430 431\n",
            " 432 433 434 435 436 437 438 439 440 441 442 443 444 445 446 447 448 449\n",
            " 450 451 452 453 454 455 456 457 458 459 460 461 462 463 464 465 466 467\n",
            " 468 469 470 471 472 473 474 475 476 477 478 479 480 481 482 483 484 485\n",
            " 486 487 488 489 490 491 492 493 494 495 496 497 498 499 500 501 502 503\n",
            " 504 505 506 507 508 509 510 511 512 513 514 515 516 517 518 519 520 521\n",
            " 522 523 524 525 526 527 528 529 530 531 532 533 534 535 536 537 538 539\n",
            " 540 541 542 543 544 545 546 547 548 549 550 551 552 553 554 555 556 557\n",
            " 558 559 560 561 562 563 564 565 566 567 568 569 570 571 572 573 574 575\n",
            " 576 577 578 579 580 581 582 583 584 585 586 587 588 589 590 591 592 593\n",
            " 594 595 596 597 598 599 600 601 602 603 604 605 606 607 608 609 610 611\n",
            " 612 613 614 615 616 617 618 619 620 621 622 623 624 625 626 627 628 629\n",
            " 630 631 632 633 634 635 636 637 638 639 640 641 642 643 644 645 646 647\n",
            " 648 649 650 651 652 653 654 655 656 657 658 659 660 661 662 663 664 665\n",
            " 666 667 668 669 670 671 672 673 674 675 676 677 678 679 680 681 682 683\n",
            " 684 685 686 687 688 689 690 691 692 693 694 695 696 697 698 699 700 701\n",
            " 702 703 704 705 706 707 708 709 710 711 712 713 714 715 716 717 718 719\n",
            " 720 721 722 723 724 725 726 727 728 729 730 731 732 733 734 735 736 737\n",
            " 738 739 740 741 742 743 744 745 746 747 748 749 750 751 752 753 754 755\n",
            " 756 757 758 759 760 761 762 763 764 765 766 767 768 769 770 771 772 773\n",
            " 774 775 776 777 778 779 780 781 782 783 784 785 786 787 788 789 790 791\n",
            " 792 793 794 795 796 797 798 799 800 801 802 803 804 805 806 807 808 809\n",
            " 810 811 812 813 814 815 816 817 818 819 820 821 822 823 824 825 826 827\n",
            " 828 829 830 831 832 833 834 835 836 837 838 839 840 841 842 843 844 845\n",
            " 846 847 848 849 850 851 852 853 854 855 856 857 858 859 860 861 862 863\n",
            " 864 865 866 867 868 869 870 871 872 873 874 875 876 877 878 879 880 881\n",
            " 882 883 884 885 886 887 888 889 890]\n",
            "Test Index [ 0  1  2  3  4  5  6  7  8  9 10 11 12 13 14 15 16 17 18 19 20 21 22 23\n",
            " 24 25 26 27 28 29 30 31 32 33 34 35 36 37 38 39 40 41 42 43 44 45 46 47\n",
            " 48 49 50 51 52 53 54 55 56 57 58 59 60 61 62 63 64 65 66 67 68 69 70 71\n",
            " 72 73 74 75 76 77 78 79 80 81 83 86 87 89 90 91 92 93]\n",
            "Training Index [  0   1   2   3   4   5   6   7   8   9  10  11  12  13  14  15  16  17\n",
            "  18  19  20  21  22  23  24  25  26  27  28  29  30  31  32  33  34  35\n",
            "  36  37  38  39  40  41  42  43  44  45  46  47  48  49  50  51  52  53\n",
            "  54  55  56  57  58  59  60  61  62  63  64  65  66  67  68  69  70  71\n",
            "  72  73  74  75  76  77  78  79  80  81  83  86  87  89  90  91  92  93\n",
            " 168 169 170 171 173 174 175 176 177 178 179 180 181 182 185 188 189 191\n",
            " 196 197 199 200 201 202 203 204 205 206 207 208 209 210 211 212 213 214\n",
            " 215 216 217 218 219 220 221 222 223 224 225 226 227 228 229 230 231 232\n",
            " 233 234 235 236 237 238 239 240 241 242 243 244 245 246 247 248 249 250\n",
            " 251 252 253 254 255 256 257 258 259 260 261 262 263 264 265 266 267 268\n",
            " 269 270 271 272 273 274 275 276 277 278 279 280 281 282 283 284 285 286\n",
            " 287 288 289 290 291 292 293 294 295 296 297 298 299 300 301 302 303 304\n",
            " 305 306 307 308 309 310 311 312 313 314 315 316 317 318 319 320 321 322\n",
            " 323 324 325 326 327 328 329 330 331 332 333 334 335 336 337 338 339 340\n",
            " 341 342 343 344 345 346 347 348 349 350 351 352 353 354 355 356 357 358\n",
            " 359 360 361 362 363 364 365 366 367 368 369 370 371 372 373 374 375 376\n",
            " 377 378 379 380 381 382 383 384 385 386 387 388 389 390 391 392 393 394\n",
            " 395 396 397 398 399 400 401 402 403 404 405 406 407 408 409 410 411 412\n",
            " 413 414 415 416 417 418 419 420 421 422 423 424 425 426 427 428 429 430\n",
            " 431 432 433 434 435 436 437 438 439 440 441 442 443 444 445 446 447 448\n",
            " 449 450 451 452 453 454 455 456 457 458 459 460 461 462 463 464 465 466\n",
            " 467 468 469 470 471 472 473 474 475 476 477 478 479 480 481 482 483 484\n",
            " 485 486 487 488 489 490 491 492 493 494 495 496 497 498 499 500 501 502\n",
            " 503 504 505 506 507 508 509 510 511 512 513 514 515 516 517 518 519 520\n",
            " 521 522 523 524 525 526 527 528 529 530 531 532 533 534 535 536 537 538\n",
            " 539 540 541 542 543 544 545 546 547 548 549 550 551 552 553 554 555 556\n",
            " 557 558 559 560 561 562 563 564 565 566 567 568 569 570 571 572 573 574\n",
            " 575 576 577 578 579 580 581 582 583 584 585 586 587 588 589 590 591 592\n",
            " 593 594 595 596 597 598 599 600 601 602 603 604 605 606 607 608 609 610\n",
            " 611 612 613 614 615 616 617 618 619 620 621 622 623 624 625 626 627 628\n",
            " 629 630 631 632 633 634 635 636 637 638 639 640 641 642 643 644 645 646\n",
            " 647 648 649 650 651 652 653 654 655 656 657 658 659 660 661 662 663 664\n",
            " 665 666 667 668 669 670 671 672 673 674 675 676 677 678 679 680 681 682\n",
            " 683 684 685 686 687 688 689 690 691 692 693 694 695 696 697 698 699 700\n",
            " 701 702 703 704 705 706 707 708 709 710 711 712 713 714 715 716 717 718\n",
            " 719 720 721 722 723 724 725 726 727 728 729 730 731 732 733 734 735 736\n",
            " 737 738 739 740 741 742 743 744 745 746 747 748 749 750 751 752 753 754\n",
            " 755 756 757 758 759 760 761 762 763 764 765 766 767 768 769 770 771 772\n",
            " 773 774 775 776 777 778 779 780 781 782 783 784 785 786 787 788 789 790\n",
            " 791 792 793 794 795 796 797 798 799 800 801 802 803 804 805 806 807 808\n",
            " 809 810 811 812 813 814 815 816 817 818 819 820 821 822 823 824 825 826\n",
            " 827 828 829 830 831 832 833 834 835 836 837 838 839 840 841 842 843 844\n",
            " 845 846 847 848 849 850 851 852 853 854 855 856 857 858 859 860 861 862\n",
            " 863 864 865 866 867 868 869 870 871 872 873 874 875 876 877 878 879 880\n",
            " 881 882 883 884 885 886 887 888 889 890]\n",
            "Test Index [ 82  84  85  88  94  95  96  97  98  99 100 101 102 103 104 105 106 107\n",
            " 108 109 110 111 112 113 114 115 116 117 118 119 120 121 122 123 124 125\n",
            " 126 127 128 129 130 131 132 133 134 135 136 137 138 139 140 141 142 143\n",
            " 144 145 146 147 148 149 150 151 152 153 154 155 156 157 158 159 160 161\n",
            " 162 163 164 165 166 167 172 183 184 186 187 190 192 193 194 195 198]\n",
            "Training Index [  0   1   2   3   4   5   6   7   8   9  10  11  12  13  14  15  16  17\n",
            "  18  19  20  21  22  23  24  25  26  27  28  29  30  31  32  33  34  35\n",
            "  36  37  38  39  40  41  42  43  44  45  46  47  48  49  50  51  52  53\n",
            "  54  55  56  57  58  59  60  61  62  63  64  65  66  67  68  69  70  71\n",
            "  72  73  74  75  76  77  78  79  80  81  82  83  84  85  86  87  88  89\n",
            "  90  91  92  93  94  95  96  97  98  99 100 101 102 103 104 105 106 107\n",
            " 108 109 110 111 112 113 114 115 116 117 118 119 120 121 122 123 124 125\n",
            " 126 127 128 129 130 131 132 133 134 135 136 137 138 139 140 141 142 143\n",
            " 144 145 146 147 148 149 150 151 152 153 154 155 156 157 158 159 160 161\n",
            " 162 163 164 165 166 167 172 183 184 186 187 190 192 193 194 195 198 251\n",
            " 252 253 254 260 262 263 264 265 266 270 273 276 277 278 280 281 282 284\n",
            " 285 287 289 290 291 292 293 294 295 296 297 298 299 300 301 302 303 304\n",
            " 305 306 307 308 309 310 311 312 313 314 315 316 317 318 319 320 321 322\n",
            " 323 324 325 326 327 328 329 330 331 332 333 334 335 336 337 338 339 340\n",
            " 341 342 343 344 345 346 347 348 349 350 351 352 353 354 355 356 357 358\n",
            " 359 360 361 362 363 364 365 366 367 368 369 370 371 372 373 374 375 376\n",
            " 377 378 379 380 381 382 383 384 385 386 387 388 389 390 391 392 393 394\n",
            " 395 396 397 398 399 400 401 402 403 404 405 406 407 408 409 410 411 412\n",
            " 413 414 415 416 417 418 419 420 421 422 423 424 425 426 427 428 429 430\n",
            " 431 432 433 434 435 436 437 438 439 440 441 442 443 444 445 446 447 448\n",
            " 449 450 451 452 453 454 455 456 457 458 459 460 461 462 463 464 465 466\n",
            " 467 468 469 470 471 472 473 474 475 476 477 478 479 480 481 482 483 484\n",
            " 485 486 487 488 489 490 491 492 493 494 495 496 497 498 499 500 501 502\n",
            " 503 504 505 506 507 508 509 510 511 512 513 514 515 516 517 518 519 520\n",
            " 521 522 523 524 525 526 527 528 529 530 531 532 533 534 535 536 537 538\n",
            " 539 540 541 542 543 544 545 546 547 548 549 550 551 552 553 554 555 556\n",
            " 557 558 559 560 561 562 563 564 565 566 567 568 569 570 571 572 573 574\n",
            " 575 576 577 578 579 580 581 582 583 584 585 586 587 588 589 590 591 592\n",
            " 593 594 595 596 597 598 599 600 601 602 603 604 605 606 607 608 609 610\n",
            " 611 612 613 614 615 616 617 618 619 620 621 622 623 624 625 626 627 628\n",
            " 629 630 631 632 633 634 635 636 637 638 639 640 641 642 643 644 645 646\n",
            " 647 648 649 650 651 652 653 654 655 656 657 658 659 660 661 662 663 664\n",
            " 665 666 667 668 669 670 671 672 673 674 675 676 677 678 679 680 681 682\n",
            " 683 684 685 686 687 688 689 690 691 692 693 694 695 696 697 698 699 700\n",
            " 701 702 703 704 705 706 707 708 709 710 711 712 713 714 715 716 717 718\n",
            " 719 720 721 722 723 724 725 726 727 728 729 730 731 732 733 734 735 736\n",
            " 737 738 739 740 741 742 743 744 745 746 747 748 749 750 751 752 753 754\n",
            " 755 756 757 758 759 760 761 762 763 764 765 766 767 768 769 770 771 772\n",
            " 773 774 775 776 777 778 779 780 781 782 783 784 785 786 787 788 789 790\n",
            " 791 792 793 794 795 796 797 798 799 800 801 802 803 804 805 806 807 808\n",
            " 809 810 811 812 813 814 815 816 817 818 819 820 821 822 823 824 825 826\n",
            " 827 828 829 830 831 832 833 834 835 836 837 838 839 840 841 842 843 844\n",
            " 845 846 847 848 849 850 851 852 853 854 855 856 857 858 859 860 861 862\n",
            " 863 864 865 866 867 868 869 870 871 872 873 874 875 876 877 878 879 880\n",
            " 881 882 883 884 885 886 887 888 889 890]\n",
            "Test Index [168 169 170 171 173 174 175 176 177 178 179 180 181 182 185 188 189 191\n",
            " 196 197 199 200 201 202 203 204 205 206 207 208 209 210 211 212 213 214\n",
            " 215 216 217 218 219 220 221 222 223 224 225 226 227 228 229 230 231 232\n",
            " 233 234 235 236 237 238 239 240 241 242 243 244 245 246 247 248 249 250\n",
            " 255 256 257 258 259 261 267 268 269 271 272 274 275 279 283 286 288]\n",
            "Training Index [  0   1   2   3   4   5   6   7   8   9  10  11  12  13  14  15  16  17\n",
            "  18  19  20  21  22  23  24  25  26  27  28  29  30  31  32  33  34  35\n",
            "  36  37  38  39  40  41  42  43  44  45  46  47  48  49  50  51  52  53\n",
            "  54  55  56  57  58  59  60  61  62  63  64  65  66  67  68  69  70  71\n",
            "  72  73  74  75  76  77  78  79  80  81  82  83  84  85  86  87  88  89\n",
            "  90  91  92  93  94  95  96  97  98  99 100 101 102 103 104 105 106 107\n",
            " 108 109 110 111 112 113 114 115 116 117 118 119 120 121 122 123 124 125\n",
            " 126 127 128 129 130 131 132 133 134 135 136 137 138 139 140 141 142 143\n",
            " 144 145 146 147 148 149 150 151 152 153 154 155 156 157 158 159 160 161\n",
            " 162 163 164 165 166 167 168 169 170 171 172 173 174 175 176 177 178 179\n",
            " 180 181 182 183 184 185 186 187 188 189 190 191 192 193 194 195 196 197\n",
            " 198 199 200 201 202 203 204 205 206 207 208 209 210 211 212 213 214 215\n",
            " 216 217 218 219 220 221 222 223 224 225 226 227 228 229 230 231 232 233\n",
            " 234 235 236 237 238 239 240 241 242 243 244 245 246 247 248 249 250 255\n",
            " 256 257 258 259 261 267 268 269 271 272 274 275 279 283 286 288 356 358\n",
            " 359 360 361 362 363 364 365 366 367 368 369 370 371 372 373 374 375 376\n",
            " 377 378 379 380 381 382 383 384 385 386 387 388 389 390 391 392 393 394\n",
            " 395 396 397 398 399 400 401 402 403 404 405 406 407 408 409 410 411 412\n",
            " 413 414 415 416 417 418 419 420 421 422 423 424 425 426 427 428 429 430\n",
            " 431 432 433 434 435 436 437 438 439 440 441 442 443 444 445 446 447 448\n",
            " 449 450 451 452 453 454 455 456 457 458 459 460 461 462 463 464 465 466\n",
            " 467 468 469 470 471 472 473 474 475 476 477 478 479 480 481 482 483 484\n",
            " 485 486 487 488 489 490 491 492 493 494 495 496 497 498 499 500 501 502\n",
            " 503 504 505 506 507 508 509 510 511 512 513 514 515 516 517 518 519 520\n",
            " 521 522 523 524 525 526 527 528 529 530 531 532 533 534 535 536 537 538\n",
            " 539 540 541 542 543 544 545 546 547 548 549 550 551 552 553 554 555 556\n",
            " 557 558 559 560 561 562 563 564 565 566 567 568 569 570 571 572 573 574\n",
            " 575 576 577 578 579 580 581 582 583 584 585 586 587 588 589 590 591 592\n",
            " 593 594 595 596 597 598 599 600 601 602 603 604 605 606 607 608 609 610\n",
            " 611 612 613 614 615 616 617 618 619 620 621 622 623 624 625 626 627 628\n",
            " 629 630 631 632 633 634 635 636 637 638 639 640 641 642 643 644 645 646\n",
            " 647 648 649 650 651 652 653 654 655 656 657 658 659 660 661 662 663 664\n",
            " 665 666 667 668 669 670 671 672 673 674 675 676 677 678 679 680 681 682\n",
            " 683 684 685 686 687 688 689 690 691 692 693 694 695 696 697 698 699 700\n",
            " 701 702 703 704 705 706 707 708 709 710 711 712 713 714 715 716 717 718\n",
            " 719 720 721 722 723 724 725 726 727 728 729 730 731 732 733 734 735 736\n",
            " 737 738 739 740 741 742 743 744 745 746 747 748 749 750 751 752 753 754\n",
            " 755 756 757 758 759 760 761 762 763 764 765 766 767 768 769 770 771 772\n",
            " 773 774 775 776 777 778 779 780 781 782 783 784 785 786 787 788 789 790\n",
            " 791 792 793 794 795 796 797 798 799 800 801 802 803 804 805 806 807 808\n",
            " 809 810 811 812 813 814 815 816 817 818 819 820 821 822 823 824 825 826\n",
            " 827 828 829 830 831 832 833 834 835 836 837 838 839 840 841 842 843 844\n",
            " 845 846 847 848 849 850 851 852 853 854 855 856 857 858 859 860 861 862\n",
            " 863 864 865 866 867 868 869 870 871 872 873 874 875 876 877 878 879 880\n",
            " 881 882 883 884 885 886 887 888 889 890]\n",
            "Test Index [251 252 253 254 260 262 263 264 265 266 270 273 276 277 278 280 281 282\n",
            " 284 285 287 289 290 291 292 293 294 295 296 297 298 299 300 301 302 303\n",
            " 304 305 306 307 308 309 310 311 312 313 314 315 316 317 318 319 320 321\n",
            " 322 323 324 325 326 327 328 329 330 331 332 333 334 335 336 337 338 339\n",
            " 340 341 342 343 344 345 346 347 348 349 350 351 352 353 354 355 357]\n",
            "Training Index [  0   1   2   3   4   5   6   7   8   9  10  11  12  13  14  15  16  17\n",
            "  18  19  20  21  22  23  24  25  26  27  28  29  30  31  32  33  34  35\n",
            "  36  37  38  39  40  41  42  43  44  45  46  47  48  49  50  51  52  53\n",
            "  54  55  56  57  58  59  60  61  62  63  64  65  66  67  68  69  70  71\n",
            "  72  73  74  75  76  77  78  79  80  81  82  83  84  85  86  87  88  89\n",
            "  90  91  92  93  94  95  96  97  98  99 100 101 102 103 104 105 106 107\n",
            " 108 109 110 111 112 113 114 115 116 117 118 119 120 121 122 123 124 125\n",
            " 126 127 128 129 130 131 132 133 134 135 136 137 138 139 140 141 142 143\n",
            " 144 145 146 147 148 149 150 151 152 153 154 155 156 157 158 159 160 161\n",
            " 162 163 164 165 166 167 168 169 170 171 172 173 174 175 176 177 178 179\n",
            " 180 181 182 183 184 185 186 187 188 189 190 191 192 193 194 195 196 197\n",
            " 198 199 200 201 202 203 204 205 206 207 208 209 210 211 212 213 214 215\n",
            " 216 217 218 219 220 221 222 223 224 225 226 227 228 229 230 231 232 233\n",
            " 234 235 236 237 238 239 240 241 242 243 244 245 246 247 248 249 250 251\n",
            " 252 253 254 255 256 257 258 259 260 261 262 263 264 265 266 267 268 269\n",
            " 270 271 272 273 274 275 276 277 278 279 280 281 282 283 284 285 286 287\n",
            " 288 289 290 291 292 293 294 295 296 297 298 299 300 301 302 303 304 305\n",
            " 306 307 308 309 310 311 312 313 314 315 316 317 318 319 320 321 322 323\n",
            " 324 325 326 327 328 329 330 331 332 333 334 335 336 337 338 339 340 341\n",
            " 342 343 344 345 346 347 348 349 350 351 352 353 354 355 357 440 443 444\n",
            " 445 446 447 448 449 453 455 456 457 458 459 460 461 462 463 464 465 466\n",
            " 467 468 469 470 471 472 473 474 475 476 477 478 479 480 481 482 483 484\n",
            " 485 486 487 488 489 490 491 492 493 494 495 496 497 498 499 500 501 502\n",
            " 503 504 505 506 507 508 509 510 511 512 513 514 515 516 517 518 519 520\n",
            " 521 522 523 524 525 526 527 528 529 530 531 532 533 534 535 536 537 538\n",
            " 539 540 541 542 543 544 545 546 547 548 549 550 551 552 553 554 555 556\n",
            " 557 558 559 560 561 562 563 564 565 566 567 568 569 570 571 572 573 574\n",
            " 575 576 577 578 579 580 581 582 583 584 585 586 587 588 589 590 591 592\n",
            " 593 594 595 596 597 598 599 600 601 602 603 604 605 606 607 608 609 610\n",
            " 611 612 613 614 615 616 617 618 619 620 621 622 623 624 625 626 627 628\n",
            " 629 630 631 632 633 634 635 636 637 638 639 640 641 642 643 644 645 646\n",
            " 647 648 649 650 651 652 653 654 655 656 657 658 659 660 661 662 663 664\n",
            " 665 666 667 668 669 670 671 672 673 674 675 676 677 678 679 680 681 682\n",
            " 683 684 685 686 687 688 689 690 691 692 693 694 695 696 697 698 699 700\n",
            " 701 702 703 704 705 706 707 708 709 710 711 712 713 714 715 716 717 718\n",
            " 719 720 721 722 723 724 725 726 727 728 729 730 731 732 733 734 735 736\n",
            " 737 738 739 740 741 742 743 744 745 746 747 748 749 750 751 752 753 754\n",
            " 755 756 757 758 759 760 761 762 763 764 765 766 767 768 769 770 771 772\n",
            " 773 774 775 776 777 778 779 780 781 782 783 784 785 786 787 788 789 790\n",
            " 791 792 793 794 795 796 797 798 799 800 801 802 803 804 805 806 807 808\n",
            " 809 810 811 812 813 814 815 816 817 818 819 820 821 822 823 824 825 826\n",
            " 827 828 829 830 831 832 833 834 835 836 837 838 839 840 841 842 843 844\n",
            " 845 846 847 848 849 850 851 852 853 854 855 856 857 858 859 860 861 862\n",
            " 863 864 865 866 867 868 869 870 871 872 873 874 875 876 877 878 879 880\n",
            " 881 882 883 884 885 886 887 888 889 890]\n",
            "Test Index [356 358 359 360 361 362 363 364 365 366 367 368 369 370 371 372 373 374\n",
            " 375 376 377 378 379 380 381 382 383 384 385 386 387 388 389 390 391 392\n",
            " 393 394 395 396 397 398 399 400 401 402 403 404 405 406 407 408 409 410\n",
            " 411 412 413 414 415 416 417 418 419 420 421 422 423 424 425 426 427 428\n",
            " 429 430 431 432 433 434 435 436 437 438 439 441 442 450 451 452 454]\n",
            "Training Index [  0   1   2   3   4   5   6   7   8   9  10  11  12  13  14  15  16  17\n",
            "  18  19  20  21  22  23  24  25  26  27  28  29  30  31  32  33  34  35\n",
            "  36  37  38  39  40  41  42  43  44  45  46  47  48  49  50  51  52  53\n",
            "  54  55  56  57  58  59  60  61  62  63  64  65  66  67  68  69  70  71\n",
            "  72  73  74  75  76  77  78  79  80  81  82  83  84  85  86  87  88  89\n",
            "  90  91  92  93  94  95  96  97  98  99 100 101 102 103 104 105 106 107\n",
            " 108 109 110 111 112 113 114 115 116 117 118 119 120 121 122 123 124 125\n",
            " 126 127 128 129 130 131 132 133 134 135 136 137 138 139 140 141 142 143\n",
            " 144 145 146 147 148 149 150 151 152 153 154 155 156 157 158 159 160 161\n",
            " 162 163 164 165 166 167 168 169 170 171 172 173 174 175 176 177 178 179\n",
            " 180 181 182 183 184 185 186 187 188 189 190 191 192 193 194 195 196 197\n",
            " 198 199 200 201 202 203 204 205 206 207 208 209 210 211 212 213 214 215\n",
            " 216 217 218 219 220 221 222 223 224 225 226 227 228 229 230 231 232 233\n",
            " 234 235 236 237 238 239 240 241 242 243 244 245 246 247 248 249 250 251\n",
            " 252 253 254 255 256 257 258 259 260 261 262 263 264 265 266 267 268 269\n",
            " 270 271 272 273 274 275 276 277 278 279 280 281 282 283 284 285 286 287\n",
            " 288 289 290 291 292 293 294 295 296 297 298 299 300 301 302 303 304 305\n",
            " 306 307 308 309 310 311 312 313 314 315 316 317 318 319 320 321 322 323\n",
            " 324 325 326 327 328 329 330 331 332 333 334 335 336 337 338 339 340 341\n",
            " 342 343 344 345 346 347 348 349 350 351 352 353 354 355 356 357 358 359\n",
            " 360 361 362 363 364 365 366 367 368 369 370 371 372 373 374 375 376 377\n",
            " 378 379 380 381 382 383 384 385 386 387 388 389 390 391 392 393 394 395\n",
            " 396 397 398 399 400 401 402 403 404 405 406 407 408 409 410 411 412 413\n",
            " 414 415 416 417 418 419 420 421 422 423 424 425 426 427 428 429 430 431\n",
            " 432 433 434 435 436 437 438 439 441 442 450 451 452 454 530 533 535 537\n",
            " 539 540 541 542 543 544 545 546 547 548 549 550 551 552 553 554 555 556\n",
            " 557 558 559 560 561 562 563 564 565 566 567 568 569 570 571 572 573 574\n",
            " 575 576 577 578 579 580 581 582 583 584 585 586 587 588 589 590 591 592\n",
            " 593 594 595 596 597 598 599 600 601 602 603 604 605 606 607 608 609 610\n",
            " 611 612 613 614 615 616 617 618 619 620 621 622 623 624 625 626 627 628\n",
            " 629 630 631 632 633 634 635 636 637 638 639 640 641 642 643 644 645 646\n",
            " 647 648 649 650 651 652 653 654 655 656 657 658 659 660 661 662 663 664\n",
            " 665 666 667 668 669 670 671 672 673 674 675 676 677 678 679 680 681 682\n",
            " 683 684 685 686 687 688 689 690 691 692 693 694 695 696 697 698 699 700\n",
            " 701 702 703 704 705 706 707 708 709 710 711 712 713 714 715 716 717 718\n",
            " 719 720 721 722 723 724 725 726 727 728 729 730 731 732 733 734 735 736\n",
            " 737 738 739 740 741 742 743 744 745 746 747 748 749 750 751 752 753 754\n",
            " 755 756 757 758 759 760 761 762 763 764 765 766 767 768 769 770 771 772\n",
            " 773 774 775 776 777 778 779 780 781 782 783 784 785 786 787 788 789 790\n",
            " 791 792 793 794 795 796 797 798 799 800 801 802 803 804 805 806 807 808\n",
            " 809 810 811 812 813 814 815 816 817 818 819 820 821 822 823 824 825 826\n",
            " 827 828 829 830 831 832 833 834 835 836 837 838 839 840 841 842 843 844\n",
            " 845 846 847 848 849 850 851 852 853 854 855 856 857 858 859 860 861 862\n",
            " 863 864 865 866 867 868 869 870 871 872 873 874 875 876 877 878 879 880\n",
            " 881 882 883 884 885 886 887 888 889 890]\n",
            "Test Index [440 443 444 445 446 447 448 449 453 455 456 457 458 459 460 461 462 463\n",
            " 464 465 466 467 468 469 470 471 472 473 474 475 476 477 478 479 480 481\n",
            " 482 483 484 485 486 487 488 489 490 491 492 493 494 495 496 497 498 499\n",
            " 500 501 502 503 504 505 506 507 508 509 510 511 512 513 514 515 516 517\n",
            " 518 519 520 521 522 523 524 525 526 527 528 529 531 532 534 536 538]\n",
            "Training Index [  0   1   2   3   4   5   6   7   8   9  10  11  12  13  14  15  16  17\n",
            "  18  19  20  21  22  23  24  25  26  27  28  29  30  31  32  33  34  35\n",
            "  36  37  38  39  40  41  42  43  44  45  46  47  48  49  50  51  52  53\n",
            "  54  55  56  57  58  59  60  61  62  63  64  65  66  67  68  69  70  71\n",
            "  72  73  74  75  76  77  78  79  80  81  82  83  84  85  86  87  88  89\n",
            "  90  91  92  93  94  95  96  97  98  99 100 101 102 103 104 105 106 107\n",
            " 108 109 110 111 112 113 114 115 116 117 118 119 120 121 122 123 124 125\n",
            " 126 127 128 129 130 131 132 133 134 135 136 137 138 139 140 141 142 143\n",
            " 144 145 146 147 148 149 150 151 152 153 154 155 156 157 158 159 160 161\n",
            " 162 163 164 165 166 167 168 169 170 171 172 173 174 175 176 177 178 179\n",
            " 180 181 182 183 184 185 186 187 188 189 190 191 192 193 194 195 196 197\n",
            " 198 199 200 201 202 203 204 205 206 207 208 209 210 211 212 213 214 215\n",
            " 216 217 218 219 220 221 222 223 224 225 226 227 228 229 230 231 232 233\n",
            " 234 235 236 237 238 239 240 241 242 243 244 245 246 247 248 249 250 251\n",
            " 252 253 254 255 256 257 258 259 260 261 262 263 264 265 266 267 268 269\n",
            " 270 271 272 273 274 275 276 277 278 279 280 281 282 283 284 285 286 287\n",
            " 288 289 290 291 292 293 294 295 296 297 298 299 300 301 302 303 304 305\n",
            " 306 307 308 309 310 311 312 313 314 315 316 317 318 319 320 321 322 323\n",
            " 324 325 326 327 328 329 330 331 332 333 334 335 336 337 338 339 340 341\n",
            " 342 343 344 345 346 347 348 349 350 351 352 353 354 355 356 357 358 359\n",
            " 360 361 362 363 364 365 366 367 368 369 370 371 372 373 374 375 376 377\n",
            " 378 379 380 381 382 383 384 385 386 387 388 389 390 391 392 393 394 395\n",
            " 396 397 398 399 400 401 402 403 404 405 406 407 408 409 410 411 412 413\n",
            " 414 415 416 417 418 419 420 421 422 423 424 425 426 427 428 429 430 431\n",
            " 432 433 434 435 436 437 438 439 440 441 442 443 444 445 446 447 448 449\n",
            " 450 451 452 453 454 455 456 457 458 459 460 461 462 463 464 465 466 467\n",
            " 468 469 470 471 472 473 474 475 476 477 478 479 480 481 482 483 484 485\n",
            " 486 487 488 489 490 491 492 493 494 495 496 497 498 499 500 501 502 503\n",
            " 504 505 506 507 508 509 510 511 512 513 514 515 516 517 518 519 520 521\n",
            " 522 523 524 525 526 527 528 529 531 532 534 536 538 608 609 612 615 618\n",
            " 621 622 627 630 632 634 635 636 637 638 639 640 641 642 643 644 645 646\n",
            " 647 648 649 650 651 652 653 654 655 656 657 658 659 660 661 662 663 664\n",
            " 665 666 667 668 669 670 671 672 673 674 675 676 677 678 679 680 681 682\n",
            " 683 684 685 686 687 688 689 690 691 692 693 694 695 696 697 698 699 700\n",
            " 701 702 703 704 705 706 707 708 709 710 711 712 713 714 715 716 717 718\n",
            " 719 720 721 722 723 724 725 726 727 728 729 730 731 732 733 734 735 736\n",
            " 737 738 739 740 741 742 743 744 745 746 747 748 749 750 751 752 753 754\n",
            " 755 756 757 758 759 760 761 762 763 764 765 766 767 768 769 770 771 772\n",
            " 773 774 775 776 777 778 779 780 781 782 783 784 785 786 787 788 789 790\n",
            " 791 792 793 794 795 796 797 798 799 800 801 802 803 804 805 806 807 808\n",
            " 809 810 811 812 813 814 815 816 817 818 819 820 821 822 823 824 825 826\n",
            " 827 828 829 830 831 832 833 834 835 836 837 838 839 840 841 842 843 844\n",
            " 845 846 847 848 849 850 851 852 853 854 855 856 857 858 859 860 861 862\n",
            " 863 864 865 866 867 868 869 870 871 872 873 874 875 876 877 878 879 880\n",
            " 881 882 883 884 885 886 887 888 889 890]\n",
            "Test Index [530 533 535 537 539 540 541 542 543 544 545 546 547 548 549 550 551 552\n",
            " 553 554 555 556 557 558 559 560 561 562 563 564 565 566 567 568 569 570\n",
            " 571 572 573 574 575 576 577 578 579 580 581 582 583 584 585 586 587 588\n",
            " 589 590 591 592 593 594 595 596 597 598 599 600 601 602 603 604 605 606\n",
            " 607 610 611 613 614 616 617 619 620 623 624 625 626 628 629 631 633]\n",
            "Training Index [  0   1   2   3   4   5   6   7   8   9  10  11  12  13  14  15  16  17\n",
            "  18  19  20  21  22  23  24  25  26  27  28  29  30  31  32  33  34  35\n",
            "  36  37  38  39  40  41  42  43  44  45  46  47  48  49  50  51  52  53\n",
            "  54  55  56  57  58  59  60  61  62  63  64  65  66  67  68  69  70  71\n",
            "  72  73  74  75  76  77  78  79  80  81  82  83  84  85  86  87  88  89\n",
            "  90  91  92  93  94  95  96  97  98  99 100 101 102 103 104 105 106 107\n",
            " 108 109 110 111 112 113 114 115 116 117 118 119 120 121 122 123 124 125\n",
            " 126 127 128 129 130 131 132 133 134 135 136 137 138 139 140 141 142 143\n",
            " 144 145 146 147 148 149 150 151 152 153 154 155 156 157 158 159 160 161\n",
            " 162 163 164 165 166 167 168 169 170 171 172 173 174 175 176 177 178 179\n",
            " 180 181 182 183 184 185 186 187 188 189 190 191 192 193 194 195 196 197\n",
            " 198 199 200 201 202 203 204 205 206 207 208 209 210 211 212 213 214 215\n",
            " 216 217 218 219 220 221 222 223 224 225 226 227 228 229 230 231 232 233\n",
            " 234 235 236 237 238 239 240 241 242 243 244 245 246 247 248 249 250 251\n",
            " 252 253 254 255 256 257 258 259 260 261 262 263 264 265 266 267 268 269\n",
            " 270 271 272 273 274 275 276 277 278 279 280 281 282 283 284 285 286 287\n",
            " 288 289 290 291 292 293 294 295 296 297 298 299 300 301 302 303 304 305\n",
            " 306 307 308 309 310 311 312 313 314 315 316 317 318 319 320 321 322 323\n",
            " 324 325 326 327 328 329 330 331 332 333 334 335 336 337 338 339 340 341\n",
            " 342 343 344 345 346 347 348 349 350 351 352 353 354 355 356 357 358 359\n",
            " 360 361 362 363 364 365 366 367 368 369 370 371 372 373 374 375 376 377\n",
            " 378 379 380 381 382 383 384 385 386 387 388 389 390 391 392 393 394 395\n",
            " 396 397 398 399 400 401 402 403 404 405 406 407 408 409 410 411 412 413\n",
            " 414 415 416 417 418 419 420 421 422 423 424 425 426 427 428 429 430 431\n",
            " 432 433 434 435 436 437 438 439 440 441 442 443 444 445 446 447 448 449\n",
            " 450 451 452 453 454 455 456 457 458 459 460 461 462 463 464 465 466 467\n",
            " 468 469 470 471 472 473 474 475 476 477 478 479 480 481 482 483 484 485\n",
            " 486 487 488 489 490 491 492 493 494 495 496 497 498 499 500 501 502 503\n",
            " 504 505 506 507 508 509 510 511 512 513 514 515 516 517 518 519 520 521\n",
            " 522 523 524 525 526 527 528 529 530 531 532 533 534 535 536 537 538 539\n",
            " 540 541 542 543 544 545 546 547 548 549 550 551 552 553 554 555 556 557\n",
            " 558 559 560 561 562 563 564 565 566 567 568 569 570 571 572 573 574 575\n",
            " 576 577 578 579 580 581 582 583 584 585 586 587 588 589 590 591 592 593\n",
            " 594 595 596 597 598 599 600 601 602 603 604 605 606 607 610 611 613 614\n",
            " 616 617 619 620 623 624 625 626 628 629 631 633 706 707 708 709 710 712\n",
            " 716 717 720 722 723 724 725 726 727 728 729 730 731 732 733 734 735 736\n",
            " 737 738 739 740 741 742 743 744 745 746 747 748 749 750 751 752 753 754\n",
            " 755 756 757 758 759 760 761 762 763 764 765 766 767 768 769 770 771 772\n",
            " 773 774 775 776 777 778 779 780 781 782 783 784 785 786 787 788 789 790\n",
            " 791 792 793 794 795 796 797 798 799 800 801 802 803 804 805 806 807 808\n",
            " 809 810 811 812 813 814 815 816 817 818 819 820 821 822 823 824 825 826\n",
            " 827 828 829 830 831 832 833 834 835 836 837 838 839 840 841 842 843 844\n",
            " 845 846 847 848 849 850 851 852 853 854 855 856 857 858 859 860 861 862\n",
            " 863 864 865 866 867 868 869 870 871 872 873 874 875 876 877 878 879 880\n",
            " 881 882 883 884 885 886 887 888 889 890]\n",
            "Test Index [608 609 612 615 618 621 622 627 630 632 634 635 636 637 638 639 640 641\n",
            " 642 643 644 645 646 647 648 649 650 651 652 653 654 655 656 657 658 659\n",
            " 660 661 662 663 664 665 666 667 668 669 670 671 672 673 674 675 676 677\n",
            " 678 679 680 681 682 683 684 685 686 687 688 689 690 691 692 693 694 695\n",
            " 696 697 698 699 700 701 702 703 704 705 711 713 714 715 718 719 721]\n",
            "Training Index [  0   1   2   3   4   5   6   7   8   9  10  11  12  13  14  15  16  17\n",
            "  18  19  20  21  22  23  24  25  26  27  28  29  30  31  32  33  34  35\n",
            "  36  37  38  39  40  41  42  43  44  45  46  47  48  49  50  51  52  53\n",
            "  54  55  56  57  58  59  60  61  62  63  64  65  66  67  68  69  70  71\n",
            "  72  73  74  75  76  77  78  79  80  81  82  83  84  85  86  87  88  89\n",
            "  90  91  92  93  94  95  96  97  98  99 100 101 102 103 104 105 106 107\n",
            " 108 109 110 111 112 113 114 115 116 117 118 119 120 121 122 123 124 125\n",
            " 126 127 128 129 130 131 132 133 134 135 136 137 138 139 140 141 142 143\n",
            " 144 145 146 147 148 149 150 151 152 153 154 155 156 157 158 159 160 161\n",
            " 162 163 164 165 166 167 168 169 170 171 172 173 174 175 176 177 178 179\n",
            " 180 181 182 183 184 185 186 187 188 189 190 191 192 193 194 195 196 197\n",
            " 198 199 200 201 202 203 204 205 206 207 208 209 210 211 212 213 214 215\n",
            " 216 217 218 219 220 221 222 223 224 225 226 227 228 229 230 231 232 233\n",
            " 234 235 236 237 238 239 240 241 242 243 244 245 246 247 248 249 250 251\n",
            " 252 253 254 255 256 257 258 259 260 261 262 263 264 265 266 267 268 269\n",
            " 270 271 272 273 274 275 276 277 278 279 280 281 282 283 284 285 286 287\n",
            " 288 289 290 291 292 293 294 295 296 297 298 299 300 301 302 303 304 305\n",
            " 306 307 308 309 310 311 312 313 314 315 316 317 318 319 320 321 322 323\n",
            " 324 325 326 327 328 329 330 331 332 333 334 335 336 337 338 339 340 341\n",
            " 342 343 344 345 346 347 348 349 350 351 352 353 354 355 356 357 358 359\n",
            " 360 361 362 363 364 365 366 367 368 369 370 371 372 373 374 375 376 377\n",
            " 378 379 380 381 382 383 384 385 386 387 388 389 390 391 392 393 394 395\n",
            " 396 397 398 399 400 401 402 403 404 405 406 407 408 409 410 411 412 413\n",
            " 414 415 416 417 418 419 420 421 422 423 424 425 426 427 428 429 430 431\n",
            " 432 433 434 435 436 437 438 439 440 441 442 443 444 445 446 447 448 449\n",
            " 450 451 452 453 454 455 456 457 458 459 460 461 462 463 464 465 466 467\n",
            " 468 469 470 471 472 473 474 475 476 477 478 479 480 481 482 483 484 485\n",
            " 486 487 488 489 490 491 492 493 494 495 496 497 498 499 500 501 502 503\n",
            " 504 505 506 507 508 509 510 511 512 513 514 515 516 517 518 519 520 521\n",
            " 522 523 524 525 526 527 528 529 530 531 532 533 534 535 536 537 538 539\n",
            " 540 541 542 543 544 545 546 547 548 549 550 551 552 553 554 555 556 557\n",
            " 558 559 560 561 562 563 564 565 566 567 568 569 570 571 572 573 574 575\n",
            " 576 577 578 579 580 581 582 583 584 585 586 587 588 589 590 591 592 593\n",
            " 594 595 596 597 598 599 600 601 602 603 604 605 606 607 608 609 610 611\n",
            " 612 613 614 615 616 617 618 619 620 621 622 623 624 625 626 627 628 629\n",
            " 630 631 632 633 634 635 636 637 638 639 640 641 642 643 644 645 646 647\n",
            " 648 649 650 651 652 653 654 655 656 657 658 659 660 661 662 663 664 665\n",
            " 666 667 668 669 670 671 672 673 674 675 676 677 678 679 680 681 682 683\n",
            " 684 685 686 687 688 689 690 691 692 693 694 695 696 697 698 699 700 701\n",
            " 702 703 704 705 711 713 714 715 718 719 721 797 801 802 803 804 807 808\n",
            " 809 810 811 812 813 814 815 816 817 818 819 820 821 822 823 824 825 826\n",
            " 827 828 829 830 831 832 833 834 835 836 837 838 839 840 841 842 843 844\n",
            " 845 846 847 848 849 850 851 852 853 854 855 856 857 858 859 860 861 862\n",
            " 863 864 865 866 867 868 869 870 871 872 873 874 875 876 877 878 879 880\n",
            " 881 882 883 884 885 886 887 888 889 890]\n",
            "Test Index [706 707 708 709 710 712 716 717 720 722 723 724 725 726 727 728 729 730\n",
            " 731 732 733 734 735 736 737 738 739 740 741 742 743 744 745 746 747 748\n",
            " 749 750 751 752 753 754 755 756 757 758 759 760 761 762 763 764 765 766\n",
            " 767 768 769 770 771 772 773 774 775 776 777 778 779 780 781 782 783 784\n",
            " 785 786 787 788 789 790 791 792 793 794 795 796 798 799 800 805 806]\n",
            "Training Index [  0   1   2   3   4   5   6   7   8   9  10  11  12  13  14  15  16  17\n",
            "  18  19  20  21  22  23  24  25  26  27  28  29  30  31  32  33  34  35\n",
            "  36  37  38  39  40  41  42  43  44  45  46  47  48  49  50  51  52  53\n",
            "  54  55  56  57  58  59  60  61  62  63  64  65  66  67  68  69  70  71\n",
            "  72  73  74  75  76  77  78  79  80  81  82  83  84  85  86  87  88  89\n",
            "  90  91  92  93  94  95  96  97  98  99 100 101 102 103 104 105 106 107\n",
            " 108 109 110 111 112 113 114 115 116 117 118 119 120 121 122 123 124 125\n",
            " 126 127 128 129 130 131 132 133 134 135 136 137 138 139 140 141 142 143\n",
            " 144 145 146 147 148 149 150 151 152 153 154 155 156 157 158 159 160 161\n",
            " 162 163 164 165 166 167 168 169 170 171 172 173 174 175 176 177 178 179\n",
            " 180 181 182 183 184 185 186 187 188 189 190 191 192 193 194 195 196 197\n",
            " 198 199 200 201 202 203 204 205 206 207 208 209 210 211 212 213 214 215\n",
            " 216 217 218 219 220 221 222 223 224 225 226 227 228 229 230 231 232 233\n",
            " 234 235 236 237 238 239 240 241 242 243 244 245 246 247 248 249 250 251\n",
            " 252 253 254 255 256 257 258 259 260 261 262 263 264 265 266 267 268 269\n",
            " 270 271 272 273 274 275 276 277 278 279 280 281 282 283 284 285 286 287\n",
            " 288 289 290 291 292 293 294 295 296 297 298 299 300 301 302 303 304 305\n",
            " 306 307 308 309 310 311 312 313 314 315 316 317 318 319 320 321 322 323\n",
            " 324 325 326 327 328 329 330 331 332 333 334 335 336 337 338 339 340 341\n",
            " 342 343 344 345 346 347 348 349 350 351 352 353 354 355 356 357 358 359\n",
            " 360 361 362 363 364 365 366 367 368 369 370 371 372 373 374 375 376 377\n",
            " 378 379 380 381 382 383 384 385 386 387 388 389 390 391 392 393 394 395\n",
            " 396 397 398 399 400 401 402 403 404 405 406 407 408 409 410 411 412 413\n",
            " 414 415 416 417 418 419 420 421 422 423 424 425 426 427 428 429 430 431\n",
            " 432 433 434 435 436 437 438 439 440 441 442 443 444 445 446 447 448 449\n",
            " 450 451 452 453 454 455 456 457 458 459 460 461 462 463 464 465 466 467\n",
            " 468 469 470 471 472 473 474 475 476 477 478 479 480 481 482 483 484 485\n",
            " 486 487 488 489 490 491 492 493 494 495 496 497 498 499 500 501 502 503\n",
            " 504 505 506 507 508 509 510 511 512 513 514 515 516 517 518 519 520 521\n",
            " 522 523 524 525 526 527 528 529 530 531 532 533 534 535 536 537 538 539\n",
            " 540 541 542 543 544 545 546 547 548 549 550 551 552 553 554 555 556 557\n",
            " 558 559 560 561 562 563 564 565 566 567 568 569 570 571 572 573 574 575\n",
            " 576 577 578 579 580 581 582 583 584 585 586 587 588 589 590 591 592 593\n",
            " 594 595 596 597 598 599 600 601 602 603 604 605 606 607 608 609 610 611\n",
            " 612 613 614 615 616 617 618 619 620 621 622 623 624 625 626 627 628 629\n",
            " 630 631 632 633 634 635 636 637 638 639 640 641 642 643 644 645 646 647\n",
            " 648 649 650 651 652 653 654 655 656 657 658 659 660 661 662 663 664 665\n",
            " 666 667 668 669 670 671 672 673 674 675 676 677 678 679 680 681 682 683\n",
            " 684 685 686 687 688 689 690 691 692 693 694 695 696 697 698 699 700 701\n",
            " 702 703 704 705 706 707 708 709 710 711 712 713 714 715 716 717 718 719\n",
            " 720 721 722 723 724 725 726 727 728 729 730 731 732 733 734 735 736 737\n",
            " 738 739 740 741 742 743 744 745 746 747 748 749 750 751 752 753 754 755\n",
            " 756 757 758 759 760 761 762 763 764 765 766 767 768 769 770 771 772 773\n",
            " 774 775 776 777 778 779 780 781 782 783 784 785 786 787 788 789 790 791\n",
            " 792 793 794 795 796 798 799 800 805 806]\n",
            "Test Index [797 801 802 803 804 807 808 809 810 811 812 813 814 815 816 817 818 819\n",
            " 820 821 822 823 824 825 826 827 828 829 830 831 832 833 834 835 836 837\n",
            " 838 839 840 841 842 843 844 845 846 847 848 849 850 851 852 853 854 855\n",
            " 856 857 858 859 860 861 862 863 864 865 866 867 868 869 870 871 872 873\n",
            " 874 875 876 877 878 879 880 881 882 883 884 885 886 887 888 889 890]\n"
          ]
        }
      ]
    },
    {
      "cell_type": "code",
      "source": [
        "skvc_result=cross_val_score(lrmodel,x,y,cv=sk)\n",
        "skvc_result"
      ],
      "metadata": {
        "colab": {
          "base_uri": "https://localhost:8080/"
        },
        "id": "lCX_lcZonUzd",
        "outputId": "18669684-4e1e-43c6-89c1-64f04d7795b7"
      },
      "execution_count": 186,
      "outputs": [
        {
          "output_type": "execute_result",
          "data": {
            "text/plain": [
              "array([0.64444444, 0.65168539, 0.6741573 , 0.70786517, 0.74157303,\n",
              "       0.69662921, 0.73033708, 0.73033708, 0.70786517, 0.69662921])"
            ]
          },
          "metadata": {},
          "execution_count": 186
        }
      ]
    },
    {
      "cell_type": "code",
      "source": [
        "np.mean(skvc_result)"
      ],
      "metadata": {
        "colab": {
          "base_uri": "https://localhost:8080/"
        },
        "id": "rezMzbM7nuUo",
        "outputId": "c9a4dd60-278b-41cd-a6f6-d5542633f978"
      },
      "execution_count": 187,
      "outputs": [
        {
          "output_type": "execute_result",
          "data": {
            "text/plain": [
              "0.6981523096129838"
            ]
          },
          "metadata": {},
          "execution_count": 187
        }
      ]
    }
  ]
}